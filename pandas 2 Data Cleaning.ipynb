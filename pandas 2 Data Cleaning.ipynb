{
 "cells": [
  {
   "cell_type": "code",
   "execution_count": 1,
   "id": "51923b0e",
   "metadata": {},
   "outputs": [],
   "source": [
    "import pandas as pd\n"
   ]
  },
  {
   "cell_type": "code",
   "execution_count": 2,
   "id": "7e056add",
   "metadata": {},
   "outputs": [],
   "source": [
    "housing = pd.read_csv('melbourne.csv')"
   ]
  },
  {
   "cell_type": "code",
   "execution_count": 8,
   "id": "325fa135",
   "metadata": {},
   "outputs": [
    {
     "data": {
      "text/plain": [
       "(23547, 21)"
      ]
     },
     "execution_count": 8,
     "metadata": {},
     "output_type": "execute_result"
    }
   ],
   "source": [
    "housing.shape"
   ]
  },
  {
   "cell_type": "code",
   "execution_count": 7,
   "id": "64e94ef9",
   "metadata": {},
   "outputs": [
    {
     "data": {
      "text/plain": [
       "(23547, 21)"
      ]
     },
     "execution_count": 7,
     "metadata": {},
     "output_type": "execute_result"
    }
   ],
   "source": [
    "housing.shape"
   ]
  },
  {
   "cell_type": "code",
   "execution_count": 9,
   "id": "2c341d7a",
   "metadata": {},
   "outputs": [
    {
     "data": {
      "text/plain": [
       "Suburb               0\n",
       "Address              0\n",
       "Rooms                0\n",
       "Type                 0\n",
       "Price             5151\n",
       "Method               0\n",
       "SellerG              0\n",
       "Date                 0\n",
       "Distance             1\n",
       "Postcode             1\n",
       "Bedroom2          4481\n",
       "Bathroom          4484\n",
       "Car               4626\n",
       "Landsize          6137\n",
       "BuildingArea     13529\n",
       "YearBuilt        12007\n",
       "CouncilArea       7891\n",
       "Lattitude         4304\n",
       "Longtitude        4304\n",
       "Regionname           1\n",
       "Propertycount        1\n",
       "dtype: int64"
      ]
     },
     "execution_count": 9,
     "metadata": {},
     "output_type": "execute_result"
    }
   ],
   "source": [
    "housing.isnull().sum()"
   ]
  },
  {
   "cell_type": "code",
   "execution_count": 15,
   "id": "8d84b25f",
   "metadata": {},
   "outputs": [
    {
     "data": {
      "text/plain": [
       "Suburb            0.0\n",
       "Address           0.0\n",
       "Rooms             0.0\n",
       "Type              0.0\n",
       "Price            22.0\n",
       "Method            0.0\n",
       "SellerG           0.0\n",
       "Date              0.0\n",
       "Distance          0.0\n",
       "Postcode          0.0\n",
       "Bedroom2         19.0\n",
       "Bathroom         19.0\n",
       "Car              20.0\n",
       "Landsize         26.0\n",
       "BuildingArea     57.0\n",
       "YearBuilt        51.0\n",
       "CouncilArea      34.0\n",
       "Lattitude        18.0\n",
       "Longtitude       18.0\n",
       "Regionname        0.0\n",
       "Propertycount     0.0\n",
       "dtype: float64"
      ]
     },
     "execution_count": 15,
     "metadata": {},
     "output_type": "execute_result"
    }
   ],
   "source": [
    "round((housing.isnull().sum()/len(housing))*100)"
   ]
  },
  {
   "cell_type": "code",
   "execution_count": 18,
   "id": "28cbe9a0",
   "metadata": {},
   "outputs": [],
   "source": [
    "housing = housing.drop(columns=['BuildingArea','YearBuilt','CouncilArea'])"
   ]
  },
  {
   "cell_type": "code",
   "execution_count": 19,
   "id": "a6c9f6fd",
   "metadata": {},
   "outputs": [
    {
     "data": {
      "text/plain": [
       "Index(['Suburb', 'Address', 'Rooms', 'Type', 'Price', 'Method', 'SellerG',\n",
       "       'Date', 'Distance', 'Postcode', 'Bedroom2', 'Bathroom', 'Car',\n",
       "       'Landsize', 'Lattitude', 'Longtitude', 'Regionname', 'Propertycount'],\n",
       "      dtype='object')"
      ]
     },
     "execution_count": 19,
     "metadata": {},
     "output_type": "execute_result"
    }
   ],
   "source": [
    "housing.columns"
   ]
  },
  {
   "cell_type": "code",
   "execution_count": 21,
   "id": "bbbf2775",
   "metadata": {},
   "outputs": [
    {
     "data": {
      "text/plain": [
       "0        1\n",
       "1        0\n",
       "2        0\n",
       "3        1\n",
       "4        0\n",
       "        ..\n",
       "23542    1\n",
       "23543    5\n",
       "23544    1\n",
       "23545    0\n",
       "23546    1\n",
       "Length: 23547, dtype: int64"
      ]
     },
     "execution_count": 21,
     "metadata": {},
     "output_type": "execute_result"
    }
   ],
   "source": []
  },
  {
   "cell_type": "code",
   "execution_count": 22,
   "id": "a4e04a2f",
   "metadata": {},
   "outputs": [
    {
     "data": {
      "text/plain": [
       "(23547, 18)"
      ]
     },
     "execution_count": 22,
     "metadata": {},
     "output_type": "execute_result"
    }
   ],
   "source": [
    "housing.shape"
   ]
  },
  {
   "cell_type": "code",
   "execution_count": 23,
   "id": "13ef61c2",
   "metadata": {},
   "outputs": [
    {
     "data": {
      "text/plain": [
       "0        False\n",
       "1        False\n",
       "2        False\n",
       "3        False\n",
       "4        False\n",
       "         ...  \n",
       "23542    False\n",
       "23543     True\n",
       "23544    False\n",
       "23545    False\n",
       "23546    False\n",
       "Length: 23547, dtype: bool"
      ]
     },
     "execution_count": 23,
     "metadata": {},
     "output_type": "execute_result"
    }
   ],
   "source": [
    "housing.isnull().sum(axis = 1) > 4"
   ]
  },
  {
   "cell_type": "code",
   "execution_count": 24,
   "id": "ee448012",
   "metadata": {
    "scrolled": true
   },
   "outputs": [
    {
     "data": {
      "text/html": [
       "<div>\n",
       "<style scoped>\n",
       "    .dataframe tbody tr th:only-of-type {\n",
       "        vertical-align: middle;\n",
       "    }\n",
       "\n",
       "    .dataframe tbody tr th {\n",
       "        vertical-align: top;\n",
       "    }\n",
       "\n",
       "    .dataframe thead th {\n",
       "        text-align: right;\n",
       "    }\n",
       "</style>\n",
       "<table border=\"1\" class=\"dataframe\">\n",
       "  <thead>\n",
       "    <tr style=\"text-align: right;\">\n",
       "      <th></th>\n",
       "      <th>Suburb</th>\n",
       "      <th>Address</th>\n",
       "      <th>Rooms</th>\n",
       "      <th>Type</th>\n",
       "      <th>Price</th>\n",
       "      <th>Method</th>\n",
       "      <th>SellerG</th>\n",
       "      <th>Date</th>\n",
       "      <th>Distance</th>\n",
       "      <th>Postcode</th>\n",
       "      <th>Bedroom2</th>\n",
       "      <th>Bathroom</th>\n",
       "      <th>Car</th>\n",
       "      <th>Landsize</th>\n",
       "      <th>Lattitude</th>\n",
       "      <th>Longtitude</th>\n",
       "      <th>Regionname</th>\n",
       "      <th>Propertycount</th>\n",
       "    </tr>\n",
       "  </thead>\n",
       "  <tbody>\n",
       "    <tr>\n",
       "      <th>15</th>\n",
       "      <td>Abbotsford</td>\n",
       "      <td>217 Langridge St</td>\n",
       "      <td>3</td>\n",
       "      <td>h</td>\n",
       "      <td>1000000.0</td>\n",
       "      <td>S</td>\n",
       "      <td>Jellis</td>\n",
       "      <td>08-10-2016</td>\n",
       "      <td>2.5</td>\n",
       "      <td>3067.0</td>\n",
       "      <td>NaN</td>\n",
       "      <td>NaN</td>\n",
       "      <td>NaN</td>\n",
       "      <td>NaN</td>\n",
       "      <td>NaN</td>\n",
       "      <td>NaN</td>\n",
       "      <td>Northern Metropolitan</td>\n",
       "      <td>4019.0</td>\n",
       "    </tr>\n",
       "    <tr>\n",
       "      <th>16</th>\n",
       "      <td>Abbotsford</td>\n",
       "      <td>18a Mollison St</td>\n",
       "      <td>2</td>\n",
       "      <td>t</td>\n",
       "      <td>745000.0</td>\n",
       "      <td>S</td>\n",
       "      <td>Jellis</td>\n",
       "      <td>08-10-2016</td>\n",
       "      <td>2.5</td>\n",
       "      <td>3067.0</td>\n",
       "      <td>NaN</td>\n",
       "      <td>NaN</td>\n",
       "      <td>NaN</td>\n",
       "      <td>NaN</td>\n",
       "      <td>NaN</td>\n",
       "      <td>NaN</td>\n",
       "      <td>Northern Metropolitan</td>\n",
       "      <td>4019.0</td>\n",
       "    </tr>\n",
       "    <tr>\n",
       "      <th>19</th>\n",
       "      <td>Abbotsford</td>\n",
       "      <td>403/609 Victoria St</td>\n",
       "      <td>2</td>\n",
       "      <td>u</td>\n",
       "      <td>542000.0</td>\n",
       "      <td>S</td>\n",
       "      <td>Dingle</td>\n",
       "      <td>08-10-2016</td>\n",
       "      <td>2.5</td>\n",
       "      <td>3067.0</td>\n",
       "      <td>NaN</td>\n",
       "      <td>NaN</td>\n",
       "      <td>NaN</td>\n",
       "      <td>NaN</td>\n",
       "      <td>NaN</td>\n",
       "      <td>NaN</td>\n",
       "      <td>Northern Metropolitan</td>\n",
       "      <td>4019.0</td>\n",
       "    </tr>\n",
       "    <tr>\n",
       "      <th>21</th>\n",
       "      <td>Abbotsford</td>\n",
       "      <td>25/84 Trenerry Cr</td>\n",
       "      <td>2</td>\n",
       "      <td>u</td>\n",
       "      <td>760000.0</td>\n",
       "      <td>SP</td>\n",
       "      <td>Biggin</td>\n",
       "      <td>10-12-2016</td>\n",
       "      <td>2.5</td>\n",
       "      <td>3067.0</td>\n",
       "      <td>NaN</td>\n",
       "      <td>NaN</td>\n",
       "      <td>NaN</td>\n",
       "      <td>NaN</td>\n",
       "      <td>NaN</td>\n",
       "      <td>NaN</td>\n",
       "      <td>Northern Metropolitan</td>\n",
       "      <td>4019.0</td>\n",
       "    </tr>\n",
       "    <tr>\n",
       "      <th>22</th>\n",
       "      <td>Abbotsford</td>\n",
       "      <td>106/119 Turner St</td>\n",
       "      <td>1</td>\n",
       "      <td>u</td>\n",
       "      <td>481000.0</td>\n",
       "      <td>SP</td>\n",
       "      <td>Purplebricks</td>\n",
       "      <td>10-12-2016</td>\n",
       "      <td>2.5</td>\n",
       "      <td>3067.0</td>\n",
       "      <td>NaN</td>\n",
       "      <td>NaN</td>\n",
       "      <td>NaN</td>\n",
       "      <td>NaN</td>\n",
       "      <td>NaN</td>\n",
       "      <td>NaN</td>\n",
       "      <td>Northern Metropolitan</td>\n",
       "      <td>4019.0</td>\n",
       "    </tr>\n",
       "    <tr>\n",
       "      <th>...</th>\n",
       "      <td>...</td>\n",
       "      <td>...</td>\n",
       "      <td>...</td>\n",
       "      <td>...</td>\n",
       "      <td>...</td>\n",
       "      <td>...</td>\n",
       "      <td>...</td>\n",
       "      <td>...</td>\n",
       "      <td>...</td>\n",
       "      <td>...</td>\n",
       "      <td>...</td>\n",
       "      <td>...</td>\n",
       "      <td>...</td>\n",
       "      <td>...</td>\n",
       "      <td>...</td>\n",
       "      <td>...</td>\n",
       "      <td>...</td>\n",
       "      <td>...</td>\n",
       "    </tr>\n",
       "    <tr>\n",
       "      <th>23499</th>\n",
       "      <td>Thornbury</td>\n",
       "      <td>1/128 Dundas St</td>\n",
       "      <td>2</td>\n",
       "      <td>t</td>\n",
       "      <td>770000.0</td>\n",
       "      <td>PI</td>\n",
       "      <td>McGrath</td>\n",
       "      <td>26-08-2017</td>\n",
       "      <td>7.0</td>\n",
       "      <td>3071.0</td>\n",
       "      <td>NaN</td>\n",
       "      <td>NaN</td>\n",
       "      <td>NaN</td>\n",
       "      <td>NaN</td>\n",
       "      <td>NaN</td>\n",
       "      <td>NaN</td>\n",
       "      <td>Northern Metropolitan</td>\n",
       "      <td>8870.0</td>\n",
       "    </tr>\n",
       "    <tr>\n",
       "      <th>23502</th>\n",
       "      <td>Thornbury</td>\n",
       "      <td>111 Pender St</td>\n",
       "      <td>2</td>\n",
       "      <td>t</td>\n",
       "      <td>858000.0</td>\n",
       "      <td>S</td>\n",
       "      <td>Jellis</td>\n",
       "      <td>26-08-2017</td>\n",
       "      <td>7.0</td>\n",
       "      <td>3071.0</td>\n",
       "      <td>NaN</td>\n",
       "      <td>NaN</td>\n",
       "      <td>NaN</td>\n",
       "      <td>NaN</td>\n",
       "      <td>NaN</td>\n",
       "      <td>NaN</td>\n",
       "      <td>Northern Metropolitan</td>\n",
       "      <td>8870.0</td>\n",
       "    </tr>\n",
       "    <tr>\n",
       "      <th>23508</th>\n",
       "      <td>Toorak</td>\n",
       "      <td>21/1059 Malvern Rd</td>\n",
       "      <td>2</td>\n",
       "      <td>u</td>\n",
       "      <td>720000.0</td>\n",
       "      <td>VB</td>\n",
       "      <td>Beller</td>\n",
       "      <td>26-08-2017</td>\n",
       "      <td>4.1</td>\n",
       "      <td>3142.0</td>\n",
       "      <td>NaN</td>\n",
       "      <td>NaN</td>\n",
       "      <td>NaN</td>\n",
       "      <td>NaN</td>\n",
       "      <td>NaN</td>\n",
       "      <td>NaN</td>\n",
       "      <td>Southern Metropolitan</td>\n",
       "      <td>7217.0</td>\n",
       "    </tr>\n",
       "    <tr>\n",
       "      <th>23531</th>\n",
       "      <td>Werribee</td>\n",
       "      <td>91 Latham St</td>\n",
       "      <td>4</td>\n",
       "      <td>h</td>\n",
       "      <td>540000.0</td>\n",
       "      <td>PI</td>\n",
       "      <td>Triwest</td>\n",
       "      <td>26-08-2017</td>\n",
       "      <td>14.7</td>\n",
       "      <td>3030.0</td>\n",
       "      <td>NaN</td>\n",
       "      <td>NaN</td>\n",
       "      <td>NaN</td>\n",
       "      <td>NaN</td>\n",
       "      <td>NaN</td>\n",
       "      <td>NaN</td>\n",
       "      <td>Western Metropolitan</td>\n",
       "      <td>16166.0</td>\n",
       "    </tr>\n",
       "    <tr>\n",
       "      <th>23543</th>\n",
       "      <td>Wyndham Vale</td>\n",
       "      <td>19 Dalrymple Bvd</td>\n",
       "      <td>4</td>\n",
       "      <td>h</td>\n",
       "      <td>NaN</td>\n",
       "      <td>S</td>\n",
       "      <td>hockingstuart</td>\n",
       "      <td>26-08-2017</td>\n",
       "      <td>27.2</td>\n",
       "      <td>3024.0</td>\n",
       "      <td>NaN</td>\n",
       "      <td>NaN</td>\n",
       "      <td>NaN</td>\n",
       "      <td>NaN</td>\n",
       "      <td>-37.87882</td>\n",
       "      <td>144.60184</td>\n",
       "      <td>Western Metropolitan</td>\n",
       "      <td>5262.0</td>\n",
       "    </tr>\n",
       "  </tbody>\n",
       "</table>\n",
       "<p>4321 rows × 18 columns</p>\n",
       "</div>"
      ],
      "text/plain": [
       "             Suburb              Address  Rooms Type      Price Method  \\\n",
       "15       Abbotsford     217 Langridge St      3    h  1000000.0      S   \n",
       "16       Abbotsford      18a Mollison St      2    t   745000.0      S   \n",
       "19       Abbotsford  403/609 Victoria St      2    u   542000.0      S   \n",
       "21       Abbotsford    25/84 Trenerry Cr      2    u   760000.0     SP   \n",
       "22       Abbotsford    106/119 Turner St      1    u   481000.0     SP   \n",
       "...             ...                  ...    ...  ...        ...    ...   \n",
       "23499     Thornbury      1/128 Dundas St      2    t   770000.0     PI   \n",
       "23502     Thornbury        111 Pender St      2    t   858000.0      S   \n",
       "23508        Toorak   21/1059 Malvern Rd      2    u   720000.0     VB   \n",
       "23531      Werribee         91 Latham St      4    h   540000.0     PI   \n",
       "23543  Wyndham Vale     19 Dalrymple Bvd      4    h        NaN      S   \n",
       "\n",
       "             SellerG        Date  Distance  Postcode  Bedroom2  Bathroom  Car  \\\n",
       "15            Jellis  08-10-2016       2.5    3067.0       NaN       NaN  NaN   \n",
       "16            Jellis  08-10-2016       2.5    3067.0       NaN       NaN  NaN   \n",
       "19            Dingle  08-10-2016       2.5    3067.0       NaN       NaN  NaN   \n",
       "21            Biggin  10-12-2016       2.5    3067.0       NaN       NaN  NaN   \n",
       "22      Purplebricks  10-12-2016       2.5    3067.0       NaN       NaN  NaN   \n",
       "...              ...         ...       ...       ...       ...       ...  ...   \n",
       "23499        McGrath  26-08-2017       7.0    3071.0       NaN       NaN  NaN   \n",
       "23502         Jellis  26-08-2017       7.0    3071.0       NaN       NaN  NaN   \n",
       "23508         Beller  26-08-2017       4.1    3142.0       NaN       NaN  NaN   \n",
       "23531        Triwest  26-08-2017      14.7    3030.0       NaN       NaN  NaN   \n",
       "23543  hockingstuart  26-08-2017      27.2    3024.0       NaN       NaN  NaN   \n",
       "\n",
       "       Landsize  Lattitude  Longtitude             Regionname  Propertycount  \n",
       "15          NaN        NaN         NaN  Northern Metropolitan         4019.0  \n",
       "16          NaN        NaN         NaN  Northern Metropolitan         4019.0  \n",
       "19          NaN        NaN         NaN  Northern Metropolitan         4019.0  \n",
       "21          NaN        NaN         NaN  Northern Metropolitan         4019.0  \n",
       "22          NaN        NaN         NaN  Northern Metropolitan         4019.0  \n",
       "...         ...        ...         ...                    ...            ...  \n",
       "23499       NaN        NaN         NaN  Northern Metropolitan         8870.0  \n",
       "23502       NaN        NaN         NaN  Northern Metropolitan         8870.0  \n",
       "23508       NaN        NaN         NaN  Southern Metropolitan         7217.0  \n",
       "23531       NaN        NaN         NaN   Western Metropolitan        16166.0  \n",
       "23543       NaN  -37.87882   144.60184   Western Metropolitan         5262.0  \n",
       "\n",
       "[4321 rows x 18 columns]"
      ]
     },
     "execution_count": 24,
     "metadata": {},
     "output_type": "execute_result"
    }
   ],
   "source": [
    "housing[housing.isnull().sum(axis = 1) > 4]"
   ]
  },
  {
   "cell_type": "code",
   "execution_count": 25,
   "id": "ec11599b",
   "metadata": {},
   "outputs": [],
   "source": [
    "housing=housing[housing.isnull().sum(axis = 1) <= 4] "
   ]
  },
  {
   "cell_type": "code",
   "execution_count": 26,
   "id": "3a7d1f8c",
   "metadata": {},
   "outputs": [
    {
     "data": {
      "text/plain": [
       "(19226, 18)"
      ]
     },
     "execution_count": 26,
     "metadata": {},
     "output_type": "execute_result"
    }
   ],
   "source": [
    "housing.shape"
   ]
  },
  {
   "cell_type": "code",
   "execution_count": 27,
   "id": "098a0397",
   "metadata": {
    "scrolled": true
   },
   "outputs": [
    {
     "data": {
      "text/plain": [
       "0           1000.0\n",
       "1        1480000.0\n",
       "2        1035000.0\n",
       "3           1000.0\n",
       "4        1465000.0\n",
       "           ...    \n",
       "23541    2500000.0\n",
       "23542       1000.0\n",
       "23544    1100000.0\n",
       "23545    1285000.0\n",
       "23546    1050000.0\n",
       "Name: Price, Length: 19226, dtype: float64"
      ]
     },
     "execution_count": 27,
     "metadata": {},
     "output_type": "execute_result"
    }
   ],
   "source": [
    "housing['Price'].fillna(1000) #fiils data in row"
   ]
  },
  {
   "cell_type": "code",
   "execution_count": 28,
   "id": "4701b59e",
   "metadata": {},
   "outputs": [
    {
     "data": {
      "text/plain": [
       "1066694.6291263422"
      ]
     },
     "execution_count": 28,
     "metadata": {},
     "output_type": "execute_result"
    }
   ],
   "source": [
    "housing['Price'].mean()"
   ]
  },
  {
   "cell_type": "code",
   "execution_count": 29,
   "id": "ac991c83",
   "metadata": {},
   "outputs": [
    {
     "data": {
      "text/plain": [
       "0        1.066695e+06\n",
       "1        1.480000e+06\n",
       "2        1.035000e+06\n",
       "3        1.066695e+06\n",
       "4        1.465000e+06\n",
       "             ...     \n",
       "23541    2.500000e+06\n",
       "23542    1.066695e+06\n",
       "23544    1.100000e+06\n",
       "23545    1.285000e+06\n",
       "23546    1.050000e+06\n",
       "Name: Price, Length: 19226, dtype: float64"
      ]
     },
     "execution_count": 29,
     "metadata": {},
     "output_type": "execute_result"
    }
   ],
   "source": [
    "housing['Price'].fillna(housing['Price'].mean())"
   ]
  },
  {
   "cell_type": "code",
   "execution_count": 30,
   "id": "30bb66ef",
   "metadata": {},
   "outputs": [],
   "source": [
    "housing['Price'] = housing['Price'].fillna(housing['Price'].mean())"
   ]
  },
  {
   "cell_type": "code",
   "execution_count": 127,
   "id": "6448146b",
   "metadata": {
    "scrolled": true
   },
   "outputs": [
    {
     "data": {
      "text/html": [
       "<div>\n",
       "<style scoped>\n",
       "    .dataframe tbody tr th:only-of-type {\n",
       "        vertical-align: middle;\n",
       "    }\n",
       "\n",
       "    .dataframe tbody tr th {\n",
       "        vertical-align: top;\n",
       "    }\n",
       "\n",
       "    .dataframe thead th {\n",
       "        text-align: right;\n",
       "    }\n",
       "</style>\n",
       "<table border=\"1\" class=\"dataframe\">\n",
       "  <thead>\n",
       "    <tr style=\"text-align: right;\">\n",
       "      <th></th>\n",
       "      <th>Suburb</th>\n",
       "      <th>Address</th>\n",
       "      <th>Rooms</th>\n",
       "      <th>Type</th>\n",
       "      <th>Price</th>\n",
       "      <th>Method</th>\n",
       "      <th>Seller</th>\n",
       "      <th>Date</th>\n",
       "      <th>Distance</th>\n",
       "      <th>Postcode</th>\n",
       "      <th>Bedroom</th>\n",
       "      <th>Bathroom</th>\n",
       "      <th>Car</th>\n",
       "      <th>Landsize</th>\n",
       "      <th>Lattitude</th>\n",
       "      <th>Longtitude</th>\n",
       "      <th>Regionname</th>\n",
       "      <th>Propertycount</th>\n",
       "    </tr>\n",
       "  </thead>\n",
       "  <tbody>\n",
       "    <tr>\n",
       "      <th>0</th>\n",
       "      <td>Abbotsford</td>\n",
       "      <td>68 Studley St</td>\n",
       "      <td>2</td>\n",
       "      <td>h</td>\n",
       "      <td>1066694.63</td>\n",
       "      <td>SS</td>\n",
       "      <td>Jellis</td>\n",
       "      <td>03-09-2016</td>\n",
       "      <td>2.5</td>\n",
       "      <td>3067.0</td>\n",
       "      <td>2.0</td>\n",
       "      <td>1.0</td>\n",
       "      <td>1.0</td>\n",
       "      <td>126.0</td>\n",
       "      <td>-37.8014</td>\n",
       "      <td>144.9958</td>\n",
       "      <td>Northern Metropolitan</td>\n",
       "      <td>4019.0</td>\n",
       "    </tr>\n",
       "    <tr>\n",
       "      <th>1</th>\n",
       "      <td>Abbotsford</td>\n",
       "      <td>85 Turner St</td>\n",
       "      <td>2</td>\n",
       "      <td>h</td>\n",
       "      <td>1480000.00</td>\n",
       "      <td>S</td>\n",
       "      <td>Biggin</td>\n",
       "      <td>03-12-2016</td>\n",
       "      <td>2.5</td>\n",
       "      <td>3067.0</td>\n",
       "      <td>2.0</td>\n",
       "      <td>1.0</td>\n",
       "      <td>1.0</td>\n",
       "      <td>202.0</td>\n",
       "      <td>-37.7996</td>\n",
       "      <td>144.9984</td>\n",
       "      <td>Northern Metropolitan</td>\n",
       "      <td>4019.0</td>\n",
       "    </tr>\n",
       "    <tr>\n",
       "      <th>2</th>\n",
       "      <td>Abbotsford</td>\n",
       "      <td>25 Bloomburg St</td>\n",
       "      <td>2</td>\n",
       "      <td>h</td>\n",
       "      <td>1035000.00</td>\n",
       "      <td>S</td>\n",
       "      <td>Biggin</td>\n",
       "      <td>04-02-2016</td>\n",
       "      <td>2.5</td>\n",
       "      <td>3067.0</td>\n",
       "      <td>2.0</td>\n",
       "      <td>1.0</td>\n",
       "      <td>0.0</td>\n",
       "      <td>156.0</td>\n",
       "      <td>-37.8079</td>\n",
       "      <td>144.9934</td>\n",
       "      <td>Northern Metropolitan</td>\n",
       "      <td>4019.0</td>\n",
       "    </tr>\n",
       "    <tr>\n",
       "      <th>3</th>\n",
       "      <td>Abbotsford</td>\n",
       "      <td>18/659 Victoria St</td>\n",
       "      <td>3</td>\n",
       "      <td>u</td>\n",
       "      <td>1066694.63</td>\n",
       "      <td>VB</td>\n",
       "      <td>Rounds</td>\n",
       "      <td>04-02-2016</td>\n",
       "      <td>2.5</td>\n",
       "      <td>3067.0</td>\n",
       "      <td>3.0</td>\n",
       "      <td>2.0</td>\n",
       "      <td>1.0</td>\n",
       "      <td>0.0</td>\n",
       "      <td>-37.8114</td>\n",
       "      <td>145.0116</td>\n",
       "      <td>Northern Metropolitan</td>\n",
       "      <td>4019.0</td>\n",
       "    </tr>\n",
       "    <tr>\n",
       "      <th>4</th>\n",
       "      <td>Abbotsford</td>\n",
       "      <td>5 Charles St</td>\n",
       "      <td>3</td>\n",
       "      <td>h</td>\n",
       "      <td>1465000.00</td>\n",
       "      <td>SP</td>\n",
       "      <td>Biggin</td>\n",
       "      <td>04-03-2017</td>\n",
       "      <td>2.5</td>\n",
       "      <td>3067.0</td>\n",
       "      <td>3.0</td>\n",
       "      <td>2.0</td>\n",
       "      <td>0.0</td>\n",
       "      <td>134.0</td>\n",
       "      <td>-37.8093</td>\n",
       "      <td>144.9944</td>\n",
       "      <td>Northern Metropolitan</td>\n",
       "      <td>4019.0</td>\n",
       "    </tr>\n",
       "  </tbody>\n",
       "</table>\n",
       "</div>"
      ],
      "text/plain": [
       "       Suburb             Address  Rooms Type       Price Method  Seller  \\\n",
       "0  Abbotsford       68 Studley St      2    h  1066694.63     SS  Jellis   \n",
       "1  Abbotsford        85 Turner St      2    h  1480000.00      S  Biggin   \n",
       "2  Abbotsford     25 Bloomburg St      2    h  1035000.00      S  Biggin   \n",
       "3  Abbotsford  18/659 Victoria St      3    u  1066694.63     VB  Rounds   \n",
       "4  Abbotsford        5 Charles St      3    h  1465000.00     SP  Biggin   \n",
       "\n",
       "         Date  Distance  Postcode  Bedroom  Bathroom  Car  Landsize  \\\n",
       "0  03-09-2016       2.5    3067.0      2.0       1.0  1.0     126.0   \n",
       "1  03-12-2016       2.5    3067.0      2.0       1.0  1.0     202.0   \n",
       "2  04-02-2016       2.5    3067.0      2.0       1.0  0.0     156.0   \n",
       "3  04-02-2016       2.5    3067.0      3.0       2.0  1.0       0.0   \n",
       "4  04-03-2017       2.5    3067.0      3.0       2.0  0.0     134.0   \n",
       "\n",
       "   Lattitude  Longtitude             Regionname  Propertycount  \n",
       "0   -37.8014    144.9958  Northern Metropolitan         4019.0  \n",
       "1   -37.7996    144.9984  Northern Metropolitan         4019.0  \n",
       "2   -37.8079    144.9934  Northern Metropolitan         4019.0  \n",
       "3   -37.8114    145.0116  Northern Metropolitan         4019.0  \n",
       "4   -37.8093    144.9944  Northern Metropolitan         4019.0  "
      ]
     },
     "execution_count": 127,
     "metadata": {},
     "output_type": "execute_result"
    }
   ],
   "source": [
    "housing.head()"
   ]
  },
  {
   "cell_type": "code",
   "execution_count": 126,
   "id": "a6ffc940",
   "metadata": {},
   "outputs": [],
   "source": [
    "def round_off(x):\n",
    " return round(x,2)\n",
    "\n",
    "housing['Price'] = housing['Price'].apply(round_off)"
   ]
  },
  {
   "cell_type": "code",
   "execution_count": 124,
   "id": "8f37bb1a",
   "metadata": {},
   "outputs": [
    {
     "data": {
      "text/html": [
       "<div>\n",
       "<style scoped>\n",
       "    .dataframe tbody tr th:only-of-type {\n",
       "        vertical-align: middle;\n",
       "    }\n",
       "\n",
       "    .dataframe tbody tr th {\n",
       "        vertical-align: top;\n",
       "    }\n",
       "\n",
       "    .dataframe thead th {\n",
       "        text-align: right;\n",
       "    }\n",
       "</style>\n",
       "<table border=\"1\" class=\"dataframe\">\n",
       "  <thead>\n",
       "    <tr style=\"text-align: right;\">\n",
       "      <th></th>\n",
       "      <th>Suburb</th>\n",
       "      <th>Address</th>\n",
       "      <th>Rooms</th>\n",
       "      <th>Type</th>\n",
       "      <th>Price</th>\n",
       "      <th>Method</th>\n",
       "      <th>Seller</th>\n",
       "      <th>Date</th>\n",
       "      <th>Distance</th>\n",
       "      <th>Postcode</th>\n",
       "      <th>Bedroom</th>\n",
       "      <th>Bathroom</th>\n",
       "      <th>Car</th>\n",
       "      <th>Landsize</th>\n",
       "      <th>Lattitude</th>\n",
       "      <th>Longtitude</th>\n",
       "      <th>Regionname</th>\n",
       "      <th>Propertycount</th>\n",
       "    </tr>\n",
       "  </thead>\n",
       "  <tbody>\n",
       "    <tr>\n",
       "      <th>0</th>\n",
       "      <td>Abbotsford</td>\n",
       "      <td>68 Studley St</td>\n",
       "      <td>2</td>\n",
       "      <td>h</td>\n",
       "      <td>1066694.63</td>\n",
       "      <td>SS</td>\n",
       "      <td>Jellis</td>\n",
       "      <td>03-09-2016</td>\n",
       "      <td>2.5</td>\n",
       "      <td>3067.0</td>\n",
       "      <td>2.0</td>\n",
       "      <td>1.0</td>\n",
       "      <td>1.0</td>\n",
       "      <td>126.0</td>\n",
       "      <td>-37.8014</td>\n",
       "      <td>144.9958</td>\n",
       "      <td>Northern Metropolitan</td>\n",
       "      <td>4019.0</td>\n",
       "    </tr>\n",
       "    <tr>\n",
       "      <th>1</th>\n",
       "      <td>Abbotsford</td>\n",
       "      <td>85 Turner St</td>\n",
       "      <td>2</td>\n",
       "      <td>h</td>\n",
       "      <td>1480000.00</td>\n",
       "      <td>S</td>\n",
       "      <td>Biggin</td>\n",
       "      <td>03-12-2016</td>\n",
       "      <td>2.5</td>\n",
       "      <td>3067.0</td>\n",
       "      <td>2.0</td>\n",
       "      <td>1.0</td>\n",
       "      <td>1.0</td>\n",
       "      <td>202.0</td>\n",
       "      <td>-37.7996</td>\n",
       "      <td>144.9984</td>\n",
       "      <td>Northern Metropolitan</td>\n",
       "      <td>4019.0</td>\n",
       "    </tr>\n",
       "    <tr>\n",
       "      <th>2</th>\n",
       "      <td>Abbotsford</td>\n",
       "      <td>25 Bloomburg St</td>\n",
       "      <td>2</td>\n",
       "      <td>h</td>\n",
       "      <td>1035000.00</td>\n",
       "      <td>S</td>\n",
       "      <td>Biggin</td>\n",
       "      <td>04-02-2016</td>\n",
       "      <td>2.5</td>\n",
       "      <td>3067.0</td>\n",
       "      <td>2.0</td>\n",
       "      <td>1.0</td>\n",
       "      <td>0.0</td>\n",
       "      <td>156.0</td>\n",
       "      <td>-37.8079</td>\n",
       "      <td>144.9934</td>\n",
       "      <td>Northern Metropolitan</td>\n",
       "      <td>4019.0</td>\n",
       "    </tr>\n",
       "    <tr>\n",
       "      <th>3</th>\n",
       "      <td>Abbotsford</td>\n",
       "      <td>18/659 Victoria St</td>\n",
       "      <td>3</td>\n",
       "      <td>u</td>\n",
       "      <td>1066694.63</td>\n",
       "      <td>VB</td>\n",
       "      <td>Rounds</td>\n",
       "      <td>04-02-2016</td>\n",
       "      <td>2.5</td>\n",
       "      <td>3067.0</td>\n",
       "      <td>3.0</td>\n",
       "      <td>2.0</td>\n",
       "      <td>1.0</td>\n",
       "      <td>0.0</td>\n",
       "      <td>-37.8114</td>\n",
       "      <td>145.0116</td>\n",
       "      <td>Northern Metropolitan</td>\n",
       "      <td>4019.0</td>\n",
       "    </tr>\n",
       "    <tr>\n",
       "      <th>4</th>\n",
       "      <td>Abbotsford</td>\n",
       "      <td>5 Charles St</td>\n",
       "      <td>3</td>\n",
       "      <td>h</td>\n",
       "      <td>1465000.00</td>\n",
       "      <td>SP</td>\n",
       "      <td>Biggin</td>\n",
       "      <td>04-03-2017</td>\n",
       "      <td>2.5</td>\n",
       "      <td>3067.0</td>\n",
       "      <td>3.0</td>\n",
       "      <td>2.0</td>\n",
       "      <td>0.0</td>\n",
       "      <td>134.0</td>\n",
       "      <td>-37.8093</td>\n",
       "      <td>144.9944</td>\n",
       "      <td>Northern Metropolitan</td>\n",
       "      <td>4019.0</td>\n",
       "    </tr>\n",
       "  </tbody>\n",
       "</table>\n",
       "</div>"
      ],
      "text/plain": [
       "       Suburb             Address  Rooms Type       Price Method  Seller  \\\n",
       "0  Abbotsford       68 Studley St      2    h  1066694.63     SS  Jellis   \n",
       "1  Abbotsford        85 Turner St      2    h  1480000.00      S  Biggin   \n",
       "2  Abbotsford     25 Bloomburg St      2    h  1035000.00      S  Biggin   \n",
       "3  Abbotsford  18/659 Victoria St      3    u  1066694.63     VB  Rounds   \n",
       "4  Abbotsford        5 Charles St      3    h  1465000.00     SP  Biggin   \n",
       "\n",
       "         Date  Distance  Postcode  Bedroom  Bathroom  Car  Landsize  \\\n",
       "0  03-09-2016       2.5    3067.0      2.0       1.0  1.0     126.0   \n",
       "1  03-12-2016       2.5    3067.0      2.0       1.0  1.0     202.0   \n",
       "2  04-02-2016       2.5    3067.0      2.0       1.0  0.0     156.0   \n",
       "3  04-02-2016       2.5    3067.0      3.0       2.0  1.0       0.0   \n",
       "4  04-03-2017       2.5    3067.0      3.0       2.0  0.0     134.0   \n",
       "\n",
       "   Lattitude  Longtitude             Regionname  Propertycount  \n",
       "0   -37.8014    144.9958  Northern Metropolitan         4019.0  \n",
       "1   -37.7996    144.9984  Northern Metropolitan         4019.0  \n",
       "2   -37.8079    144.9934  Northern Metropolitan         4019.0  \n",
       "3   -37.8114    145.0116  Northern Metropolitan         4019.0  \n",
       "4   -37.8093    144.9944  Northern Metropolitan         4019.0  "
      ]
     },
     "execution_count": 124,
     "metadata": {},
     "output_type": "execute_result"
    }
   ],
   "source": [
    "housing.head()"
   ]
  },
  {
   "cell_type": "code",
   "execution_count": 32,
   "id": "e2273a91",
   "metadata": {},
   "outputs": [
    {
     "data": {
      "text/plain": [
       "(19226, 18)"
      ]
     },
     "execution_count": 32,
     "metadata": {},
     "output_type": "execute_result"
    }
   ],
   "source": [
    "housing.shape\n"
   ]
  },
  {
   "cell_type": "code",
   "execution_count": 33,
   "id": "78faa457",
   "metadata": {},
   "outputs": [
    {
     "data": {
      "text/plain": [
       "1"
      ]
     },
     "execution_count": 33,
     "metadata": {},
     "output_type": "execute_result"
    }
   ],
   "source": [
    "housing.duplicated().sum()"
   ]
  },
  {
   "cell_type": "code",
   "execution_count": 34,
   "id": "ef613176",
   "metadata": {},
   "outputs": [
    {
     "data": {
      "text/html": [
       "<div>\n",
       "<style scoped>\n",
       "    .dataframe tbody tr th:only-of-type {\n",
       "        vertical-align: middle;\n",
       "    }\n",
       "\n",
       "    .dataframe tbody tr th {\n",
       "        vertical-align: top;\n",
       "    }\n",
       "\n",
       "    .dataframe thead th {\n",
       "        text-align: right;\n",
       "    }\n",
       "</style>\n",
       "<table border=\"1\" class=\"dataframe\">\n",
       "  <thead>\n",
       "    <tr style=\"text-align: right;\">\n",
       "      <th></th>\n",
       "      <th>Suburb</th>\n",
       "      <th>Address</th>\n",
       "      <th>Rooms</th>\n",
       "      <th>Type</th>\n",
       "      <th>Price</th>\n",
       "      <th>Method</th>\n",
       "      <th>SellerG</th>\n",
       "      <th>Date</th>\n",
       "      <th>Distance</th>\n",
       "      <th>Postcode</th>\n",
       "      <th>Bedroom2</th>\n",
       "      <th>Bathroom</th>\n",
       "      <th>Car</th>\n",
       "      <th>Landsize</th>\n",
       "      <th>Lattitude</th>\n",
       "      <th>Longtitude</th>\n",
       "      <th>Regionname</th>\n",
       "      <th>Propertycount</th>\n",
       "    </tr>\n",
       "  </thead>\n",
       "  <tbody>\n",
       "    <tr>\n",
       "      <th>15858</th>\n",
       "      <td>Nunawading</td>\n",
       "      <td>1/7 Lilian St</td>\n",
       "      <td>3</td>\n",
       "      <td>t</td>\n",
       "      <td>1.066695e+06</td>\n",
       "      <td>SP</td>\n",
       "      <td>Jellis</td>\n",
       "      <td>17-06-2017</td>\n",
       "      <td>15.4</td>\n",
       "      <td>3131.0</td>\n",
       "      <td>3.0</td>\n",
       "      <td>3.0</td>\n",
       "      <td>2.0</td>\n",
       "      <td>405.0</td>\n",
       "      <td>-37.82678</td>\n",
       "      <td>145.16777</td>\n",
       "      <td>Eastern Metropolitan</td>\n",
       "      <td>4973.0</td>\n",
       "    </tr>\n",
       "  </tbody>\n",
       "</table>\n",
       "</div>"
      ],
      "text/plain": [
       "           Suburb        Address  Rooms Type         Price Method SellerG  \\\n",
       "15858  Nunawading  1/7 Lilian St      3    t  1.066695e+06     SP  Jellis   \n",
       "\n",
       "             Date  Distance  Postcode  Bedroom2  Bathroom  Car  Landsize  \\\n",
       "15858  17-06-2017      15.4    3131.0       3.0       3.0  2.0     405.0   \n",
       "\n",
       "       Lattitude  Longtitude            Regionname  Propertycount  \n",
       "15858  -37.82678   145.16777  Eastern Metropolitan         4973.0  "
      ]
     },
     "execution_count": 34,
     "metadata": {},
     "output_type": "execute_result"
    }
   ],
   "source": [
    "housing[housing.duplicated()]"
   ]
  },
  {
   "cell_type": "code",
   "execution_count": 35,
   "id": "8be77c15",
   "metadata": {},
   "outputs": [],
   "source": [
    "housing = housing.drop_duplicates()"
   ]
  },
  {
   "cell_type": "code",
   "execution_count": 40,
   "id": "3fe40e60",
   "metadata": {},
   "outputs": [],
   "source": [
    "housing = housing.rename(columns = {'SellerG':'Seller','Bedroom2':'Bedroom'})"
   ]
  },
  {
   "cell_type": "code",
   "execution_count": 41,
   "id": "8c19af91",
   "metadata": {},
   "outputs": [
    {
     "data": {
      "text/plain": [
       "Index(['Suburb', 'Address', 'Rooms', 'Type', 'Price', 'Method', 'Seller',\n",
       "       'Date', 'Distance', 'Postcode', 'Bedroom', 'Bathroom', 'Car',\n",
       "       'Landsize', 'Lattitude', 'Longtitude', 'Regionname', 'Propertycount'],\n",
       "      dtype='object')"
      ]
     },
     "execution_count": 41,
     "metadata": {},
     "output_type": "execute_result"
    }
   ],
   "source": [
    "housing.columns  "
   ]
  },
  {
   "cell_type": "code",
   "execution_count": 43,
   "id": "fe52ca2d",
   "metadata": {},
   "outputs": [
    {
     "data": {
      "text/plain": [
       "Suburb              0\n",
       "Address             0\n",
       "Rooms               0\n",
       "Type                0\n",
       "Price               0\n",
       "Method              0\n",
       "Seller              0\n",
       "Date                0\n",
       "Distance            0\n",
       "Postcode            0\n",
       "Bedroom           160\n",
       "Bathroom          163\n",
       "Car               305\n",
       "Landsize         1816\n",
       "Lattitude          26\n",
       "Longtitude         26\n",
       "Regionname          0\n",
       "Propertycount       0\n",
       "dtype: int64"
      ]
     },
     "execution_count": 43,
     "metadata": {},
     "output_type": "execute_result"
    }
   ],
   "source": [
    "housing.isnull().sum()"
   ]
  },
  {
   "cell_type": "code",
   "execution_count": 44,
   "id": "a4824e1a",
   "metadata": {},
   "outputs": [],
   "source": [
    "housing = housing.dropna()"
   ]
  },
  {
   "cell_type": "code",
   "execution_count": 51,
   "id": "c8f4a648",
   "metadata": {},
   "outputs": [
    {
     "data": {
      "text/plain": [
       "Suburb           0\n",
       "Address          0\n",
       "Rooms            0\n",
       "Type             0\n",
       "Price            0\n",
       "Method           0\n",
       "Seller           0\n",
       "Date             0\n",
       "Distance         0\n",
       "Postcode         0\n",
       "Bedroom          0\n",
       "Bathroom         0\n",
       "Car              0\n",
       "Landsize         0\n",
       "Lattitude        0\n",
       "Longtitude       0\n",
       "Regionname       0\n",
       "Propertycount    0\n",
       "dtype: int64"
      ]
     },
     "execution_count": 51,
     "metadata": {},
     "output_type": "execute_result"
    }
   ],
   "source": [
    "housing.isnull().sum()"
   ]
  },
  {
   "cell_type": "code",
   "execution_count": 46,
   "id": "680a9c50",
   "metadata": {},
   "outputs": [],
   "source": [
    "master = pd.read_csv('master_data.csv')"
   ]
  },
  {
   "cell_type": "code",
   "execution_count": 47,
   "id": "df9363f4",
   "metadata": {},
   "outputs": [
    {
     "data": {
      "text/html": [
       "<div>\n",
       "<style scoped>\n",
       "    .dataframe tbody tr th:only-of-type {\n",
       "        vertical-align: middle;\n",
       "    }\n",
       "\n",
       "    .dataframe tbody tr th {\n",
       "        vertical-align: top;\n",
       "    }\n",
       "\n",
       "    .dataframe thead th {\n",
       "        text-align: right;\n",
       "    }\n",
       "</style>\n",
       "<table border=\"1\" class=\"dataframe\">\n",
       "  <thead>\n",
       "    <tr style=\"text-align: right;\">\n",
       "      <th></th>\n",
       "      <th>Ord_id</th>\n",
       "      <th>Prod_id</th>\n",
       "      <th>Ship_id</th>\n",
       "      <th>Cust_id</th>\n",
       "      <th>Sales</th>\n",
       "      <th>Discount</th>\n",
       "      <th>Order_Quantity</th>\n",
       "      <th>Profit</th>\n",
       "      <th>Shipping_Cost</th>\n",
       "      <th>Product_Base_Margin</th>\n",
       "      <th>Customer_Name</th>\n",
       "      <th>Province</th>\n",
       "      <th>Region</th>\n",
       "      <th>Customer_Segment</th>\n",
       "      <th>Product_Category</th>\n",
       "      <th>Product_Sub_Category</th>\n",
       "    </tr>\n",
       "  </thead>\n",
       "  <tbody>\n",
       "    <tr>\n",
       "      <th>0</th>\n",
       "      <td>Ord_5446</td>\n",
       "      <td>Prod_16</td>\n",
       "      <td>SHP_7609</td>\n",
       "      <td>Cust_1818</td>\n",
       "      <td>136.81</td>\n",
       "      <td>0.01</td>\n",
       "      <td>23</td>\n",
       "      <td>-30.51</td>\n",
       "      <td>3.60</td>\n",
       "      <td>0.56</td>\n",
       "      <td>AARON BERGMAN</td>\n",
       "      <td>ALBERTA</td>\n",
       "      <td>WEST</td>\n",
       "      <td>CORPORATE</td>\n",
       "      <td>OFFICE SUPPLIES</td>\n",
       "      <td>SCISSORS, RULERS AND TRIMMERS</td>\n",
       "    </tr>\n",
       "    <tr>\n",
       "      <th>1</th>\n",
       "      <td>Ord_2978</td>\n",
       "      <td>Prod_16</td>\n",
       "      <td>SHP_4112</td>\n",
       "      <td>Cust_1088</td>\n",
       "      <td>305.05</td>\n",
       "      <td>0.04</td>\n",
       "      <td>27</td>\n",
       "      <td>23.12</td>\n",
       "      <td>3.37</td>\n",
       "      <td>0.57</td>\n",
       "      <td>AARON HAWKINS</td>\n",
       "      <td>ONTARIO</td>\n",
       "      <td>ONTARIO</td>\n",
       "      <td>HOME OFFICE</td>\n",
       "      <td>OFFICE SUPPLIES</td>\n",
       "      <td>SCISSORS, RULERS AND TRIMMERS</td>\n",
       "    </tr>\n",
       "    <tr>\n",
       "      <th>2</th>\n",
       "      <td>Ord_5484</td>\n",
       "      <td>Prod_16</td>\n",
       "      <td>SHP_7663</td>\n",
       "      <td>Cust_1820</td>\n",
       "      <td>322.82</td>\n",
       "      <td>0.05</td>\n",
       "      <td>35</td>\n",
       "      <td>-17.58</td>\n",
       "      <td>3.98</td>\n",
       "      <td>0.56</td>\n",
       "      <td>ADRIAN SHAMI</td>\n",
       "      <td>ALBERTA</td>\n",
       "      <td>WEST</td>\n",
       "      <td>CONSUMER</td>\n",
       "      <td>OFFICE SUPPLIES</td>\n",
       "      <td>SCISSORS, RULERS AND TRIMMERS</td>\n",
       "    </tr>\n",
       "    <tr>\n",
       "      <th>3</th>\n",
       "      <td>Ord_3730</td>\n",
       "      <td>Prod_16</td>\n",
       "      <td>SHP_5175</td>\n",
       "      <td>Cust_1314</td>\n",
       "      <td>459.08</td>\n",
       "      <td>0.04</td>\n",
       "      <td>34</td>\n",
       "      <td>61.57</td>\n",
       "      <td>3.14</td>\n",
       "      <td>0.60</td>\n",
       "      <td>ALEKSANDRA GANNAWAY</td>\n",
       "      <td>SASKACHEWAN</td>\n",
       "      <td>PRARIE</td>\n",
       "      <td>CORPORATE</td>\n",
       "      <td>OFFICE SUPPLIES</td>\n",
       "      <td>SCISSORS, RULERS AND TRIMMERS</td>\n",
       "    </tr>\n",
       "    <tr>\n",
       "      <th>4</th>\n",
       "      <td>Ord_4143</td>\n",
       "      <td>Prod_16</td>\n",
       "      <td>SHP_5771</td>\n",
       "      <td>Cust_1417</td>\n",
       "      <td>207.21</td>\n",
       "      <td>0.06</td>\n",
       "      <td>24</td>\n",
       "      <td>-78.64</td>\n",
       "      <td>6.14</td>\n",
       "      <td>0.59</td>\n",
       "      <td>ALLEN ARMOLD</td>\n",
       "      <td>NEW BRUNSWICK</td>\n",
       "      <td>ATLANTIC</td>\n",
       "      <td>HOME OFFICE</td>\n",
       "      <td>OFFICE SUPPLIES</td>\n",
       "      <td>SCISSORS, RULERS AND TRIMMERS</td>\n",
       "    </tr>\n",
       "  </tbody>\n",
       "</table>\n",
       "</div>"
      ],
      "text/plain": [
       "     Ord_id  Prod_id   Ship_id    Cust_id   Sales  Discount  Order_Quantity  \\\n",
       "0  Ord_5446  Prod_16  SHP_7609  Cust_1818  136.81      0.01              23   \n",
       "1  Ord_2978  Prod_16  SHP_4112  Cust_1088  305.05      0.04              27   \n",
       "2  Ord_5484  Prod_16  SHP_7663  Cust_1820  322.82      0.05              35   \n",
       "3  Ord_3730  Prod_16  SHP_5175  Cust_1314  459.08      0.04              34   \n",
       "4  Ord_4143  Prod_16  SHP_5771  Cust_1417  207.21      0.06              24   \n",
       "\n",
       "   Profit  Shipping_Cost  Product_Base_Margin        Customer_Name  \\\n",
       "0  -30.51           3.60                 0.56        AARON BERGMAN   \n",
       "1   23.12           3.37                 0.57        AARON HAWKINS   \n",
       "2  -17.58           3.98                 0.56         ADRIAN SHAMI   \n",
       "3   61.57           3.14                 0.60  ALEKSANDRA GANNAWAY   \n",
       "4  -78.64           6.14                 0.59         ALLEN ARMOLD   \n",
       "\n",
       "        Province    Region Customer_Segment Product_Category  \\\n",
       "0        ALBERTA      WEST        CORPORATE  OFFICE SUPPLIES   \n",
       "1        ONTARIO   ONTARIO      HOME OFFICE  OFFICE SUPPLIES   \n",
       "2        ALBERTA      WEST         CONSUMER  OFFICE SUPPLIES   \n",
       "3    SASKACHEWAN    PRARIE        CORPORATE  OFFICE SUPPLIES   \n",
       "4  NEW BRUNSWICK  ATLANTIC      HOME OFFICE  OFFICE SUPPLIES   \n",
       "\n",
       "            Product_Sub_Category  \n",
       "0  SCISSORS, RULERS AND TRIMMERS  \n",
       "1  SCISSORS, RULERS AND TRIMMERS  \n",
       "2  SCISSORS, RULERS AND TRIMMERS  \n",
       "3  SCISSORS, RULERS AND TRIMMERS  \n",
       "4  SCISSORS, RULERS AND TRIMMERS  "
      ]
     },
     "execution_count": 47,
     "metadata": {},
     "output_type": "execute_result"
    }
   ],
   "source": [
    "master.head()"
   ]
  },
  {
   "cell_type": "code",
   "execution_count": 49,
   "id": "90ef87d0",
   "metadata": {},
   "outputs": [
    {
     "data": {
      "text/plain": [
       "1521767.98"
      ]
     },
     "execution_count": 49,
     "metadata": {},
     "output_type": "execute_result"
    }
   ],
   "source": [
    "master['Profit'].sum()"
   ]
  },
  {
   "cell_type": "code",
   "execution_count": 53,
   "id": "0a3e416c",
   "metadata": {},
   "outputs": [],
   "source": [
    " "
   ]
  },
  {
   "cell_type": "code",
   "execution_count": 54,
   "id": "c9dbb1fe",
   "metadata": {},
   "outputs": [
    {
     "data": {
      "text/plain": [
       "{'CONSUMER': [2, 33, 34, 43, 53, 57, 60, 64, 69, 70, 71, 73, 75, 93, 98, 103, 116, 120, 122, 124, 129, 130, 131, 132, 134, 135, 139, 143, 159, 160, 161, 176, 177, 178, 183, 184, 186, 187, 193, 194, 197, 206, 207, 214, 215, 236, 245, 246, 251, 254, 265, 266, 274, 275, 276, 287, 288, 302, 311, 318, 319, 321, 344, 347, 356, 357, 383, 384, 387, 389, 390, 395, 404, 405, 406, 412, 413, 425, 426, 433, 441, 442, 443, 445, 447, 452, 466, 476, 477, 488, 490, 521, 526, 527, 528, 533, 555, 556, 564, 568, ...], 'CORPORATE': [0, 3, 7, 9, 11, 14, 15, 16, 21, 22, 23, 27, 30, 31, 35, 36, 37, 40, 41, 42, 47, 48, 49, 55, 58, 61, 63, 65, 72, 74, 77, 78, 79, 80, 83, 84, 85, 86, 88, 92, 96, 99, 101, 104, 105, 108, 111, 114, 117, 121, 125, 127, 128, 133, 137, 142, 144, 150, 151, 152, 153, 154, 155, 156, 157, 158, 162, 169, 171, 172, 185, 191, 192, 202, 203, 204, 205, 212, 213, 216, 217, 218, 219, 220, 235, 238, 239, 243, 247, 248, 249, 250, 257, 258, 262, 263, 264, 272, 273, 277, ...], 'HOME OFFICE': [1, 4, 12, 13, 17, 18, 19, 25, 29, 32, 38, 44, 46, 50, 52, 54, 59, 62, 67, 68, 76, 81, 82, 87, 89, 97, 100, 102, 107, 110, 112, 113, 118, 119, 123, 126, 136, 140, 141, 145, 170, 173, 174, 175, 188, 189, 195, 196, 198, 199, 208, 209, 210, 228, 229, 230, 240, 241, 242, 244, 255, 256, 259, 260, 261, 285, 286, 290, 295, 312, 313, 314, 317, 322, 323, 326, 327, 328, 329, 337, 339, 340, 341, 345, 346, 349, 354, 355, 359, 367, 368, 369, 370, 381, 382, 385, 386, 400, 407, 410, ...], 'SMALL BUSINESS': [5, 6, 8, 10, 20, 24, 26, 28, 39, 45, 51, 56, 66, 90, 91, 94, 95, 106, 109, 115, 138, 146, 147, 148, 149, 163, 164, 165, 166, 167, 168, 179, 180, 181, 182, 190, 200, 201, 211, 221, 222, 223, 224, 225, 226, 227, 231, 232, 233, 234, 237, 252, 253, 267, 268, 269, 270, 271, 289, 293, 294, 296, 297, 298, 307, 309, 315, 320, 325, 330, 331, 332, 333, 350, 358, 361, 362, 363, 391, 392, 394, 398, 399, 403, 409, 411, 423, 431, 434, 439, 471, 474, 486, 487, 512, 513, 514, 515, 516, 520, ...]}"
      ]
     },
     "execution_count": 54,
     "metadata": {},
     "output_type": "execute_result"
    }
   ],
   "source": [
    "by_cust_segment.groups"
   ]
  },
  {
   "cell_type": "code",
   "execution_count": 55,
   "id": "62c31f23",
   "metadata": {},
   "outputs": [
    {
     "data": {
      "text/html": [
       "<div>\n",
       "<style scoped>\n",
       "    .dataframe tbody tr th:only-of-type {\n",
       "        vertical-align: middle;\n",
       "    }\n",
       "\n",
       "    .dataframe tbody tr th {\n",
       "        vertical-align: top;\n",
       "    }\n",
       "\n",
       "    .dataframe thead th {\n",
       "        text-align: right;\n",
       "    }\n",
       "</style>\n",
       "<table border=\"1\" class=\"dataframe\">\n",
       "  <thead>\n",
       "    <tr style=\"text-align: right;\">\n",
       "      <th></th>\n",
       "      <th>Ord_id</th>\n",
       "      <th>Prod_id</th>\n",
       "      <th>Ship_id</th>\n",
       "      <th>Cust_id</th>\n",
       "      <th>Sales</th>\n",
       "      <th>Discount</th>\n",
       "      <th>Order_Quantity</th>\n",
       "      <th>Profit</th>\n",
       "      <th>Shipping_Cost</th>\n",
       "      <th>Product_Base_Margin</th>\n",
       "      <th>Customer_Name</th>\n",
       "      <th>Province</th>\n",
       "      <th>Region</th>\n",
       "      <th>Customer_Segment</th>\n",
       "      <th>Product_Category</th>\n",
       "      <th>Product_Sub_Category</th>\n",
       "    </tr>\n",
       "  </thead>\n",
       "  <tbody>\n",
       "    <tr>\n",
       "      <th>0</th>\n",
       "      <td>Ord_5446</td>\n",
       "      <td>Prod_16</td>\n",
       "      <td>SHP_7609</td>\n",
       "      <td>Cust_1818</td>\n",
       "      <td>136.81</td>\n",
       "      <td>0.01</td>\n",
       "      <td>23</td>\n",
       "      <td>-30.51</td>\n",
       "      <td>3.60</td>\n",
       "      <td>0.56</td>\n",
       "      <td>AARON BERGMAN</td>\n",
       "      <td>ALBERTA</td>\n",
       "      <td>WEST</td>\n",
       "      <td>CORPORATE</td>\n",
       "      <td>OFFICE SUPPLIES</td>\n",
       "      <td>SCISSORS, RULERS AND TRIMMERS</td>\n",
       "    </tr>\n",
       "    <tr>\n",
       "      <th>3</th>\n",
       "      <td>Ord_3730</td>\n",
       "      <td>Prod_16</td>\n",
       "      <td>SHP_5175</td>\n",
       "      <td>Cust_1314</td>\n",
       "      <td>459.08</td>\n",
       "      <td>0.04</td>\n",
       "      <td>34</td>\n",
       "      <td>61.57</td>\n",
       "      <td>3.14</td>\n",
       "      <td>0.60</td>\n",
       "      <td>ALEKSANDRA GANNAWAY</td>\n",
       "      <td>SASKACHEWAN</td>\n",
       "      <td>PRARIE</td>\n",
       "      <td>CORPORATE</td>\n",
       "      <td>OFFICE SUPPLIES</td>\n",
       "      <td>SCISSORS, RULERS AND TRIMMERS</td>\n",
       "    </tr>\n",
       "    <tr>\n",
       "      <th>7</th>\n",
       "      <td>Ord_4506</td>\n",
       "      <td>Prod_16</td>\n",
       "      <td>SHP_6273</td>\n",
       "      <td>Cust_1544</td>\n",
       "      <td>92.02</td>\n",
       "      <td>0.07</td>\n",
       "      <td>9</td>\n",
       "      <td>-24.88</td>\n",
       "      <td>4.68</td>\n",
       "      <td>0.59</td>\n",
       "      <td>AMY COX</td>\n",
       "      <td>YUKON</td>\n",
       "      <td>YUKON</td>\n",
       "      <td>CORPORATE</td>\n",
       "      <td>OFFICE SUPPLIES</td>\n",
       "      <td>SCISSORS, RULERS AND TRIMMERS</td>\n",
       "    </tr>\n",
       "    <tr>\n",
       "      <th>9</th>\n",
       "      <td>Ord_1551</td>\n",
       "      <td>Prod_16</td>\n",
       "      <td>SHP_2145</td>\n",
       "      <td>Cust_531</td>\n",
       "      <td>184.77</td>\n",
       "      <td>0.00</td>\n",
       "      <td>29</td>\n",
       "      <td>-71.96</td>\n",
       "      <td>5.30</td>\n",
       "      <td>0.55</td>\n",
       "      <td>ANDY YOTOV</td>\n",
       "      <td>ONTARIO</td>\n",
       "      <td>ONTARIO</td>\n",
       "      <td>CORPORATE</td>\n",
       "      <td>OFFICE SUPPLIES</td>\n",
       "      <td>SCISSORS, RULERS AND TRIMMERS</td>\n",
       "    </tr>\n",
       "    <tr>\n",
       "      <th>11</th>\n",
       "      <td>Ord_1429</td>\n",
       "      <td>Prod_16</td>\n",
       "      <td>SHP_1976</td>\n",
       "      <td>Cust_510</td>\n",
       "      <td>539.06</td>\n",
       "      <td>0.05</td>\n",
       "      <td>42</td>\n",
       "      <td>-123.07</td>\n",
       "      <td>4.59</td>\n",
       "      <td>0.82</td>\n",
       "      <td>ANNA HABERLIN</td>\n",
       "      <td>ONTARIO</td>\n",
       "      <td>ONTARIO</td>\n",
       "      <td>CORPORATE</td>\n",
       "      <td>OFFICE SUPPLIES</td>\n",
       "      <td>SCISSORS, RULERS AND TRIMMERS</td>\n",
       "    </tr>\n",
       "    <tr>\n",
       "      <th>...</th>\n",
       "      <td>...</td>\n",
       "      <td>...</td>\n",
       "      <td>...</td>\n",
       "      <td>...</td>\n",
       "      <td>...</td>\n",
       "      <td>...</td>\n",
       "      <td>...</td>\n",
       "      <td>...</td>\n",
       "      <td>...</td>\n",
       "      <td>...</td>\n",
       "      <td>...</td>\n",
       "      <td>...</td>\n",
       "      <td>...</td>\n",
       "      <td>...</td>\n",
       "      <td>...</td>\n",
       "      <td>...</td>\n",
       "    </tr>\n",
       "    <tr>\n",
       "      <th>8384</th>\n",
       "      <td>Ord_1265</td>\n",
       "      <td>Prod_14</td>\n",
       "      <td>SHP_1749</td>\n",
       "      <td>Cust_466</td>\n",
       "      <td>24051.49</td>\n",
       "      <td>0.07</td>\n",
       "      <td>41</td>\n",
       "      <td>9791.04</td>\n",
       "      <td>24.49</td>\n",
       "      <td>0.37</td>\n",
       "      <td>RITSA HIGHTOWER</td>\n",
       "      <td>ONTARIO</td>\n",
       "      <td>ONTARIO</td>\n",
       "      <td>CORPORATE</td>\n",
       "      <td>TECHNOLOGY</td>\n",
       "      <td>COPIERS AND FAX</td>\n",
       "    </tr>\n",
       "    <tr>\n",
       "      <th>8385</th>\n",
       "      <td>Ord_669</td>\n",
       "      <td>Prod_14</td>\n",
       "      <td>SHP_916</td>\n",
       "      <td>Cust_224</td>\n",
       "      <td>20872.16</td>\n",
       "      <td>0.03</td>\n",
       "      <td>29</td>\n",
       "      <td>-4437.91</td>\n",
       "      <td>24.49</td>\n",
       "      <td>0.41</td>\n",
       "      <td>ROY SKARIA</td>\n",
       "      <td>BRITISH COLUMBIA</td>\n",
       "      <td>WEST</td>\n",
       "      <td>CORPORATE</td>\n",
       "      <td>TECHNOLOGY</td>\n",
       "      <td>COPIERS AND FAX</td>\n",
       "    </tr>\n",
       "    <tr>\n",
       "      <th>8386</th>\n",
       "      <td>Ord_171</td>\n",
       "      <td>Prod_14</td>\n",
       "      <td>SHP_231</td>\n",
       "      <td>Cust_1194</td>\n",
       "      <td>6350.29</td>\n",
       "      <td>0.02</td>\n",
       "      <td>10</td>\n",
       "      <td>-735.97</td>\n",
       "      <td>24.49</td>\n",
       "      <td>0.50</td>\n",
       "      <td>ROY SKARIA</td>\n",
       "      <td>MANITOBA</td>\n",
       "      <td>PRARIE</td>\n",
       "      <td>CORPORATE</td>\n",
       "      <td>TECHNOLOGY</td>\n",
       "      <td>COPIERS AND FAX</td>\n",
       "    </tr>\n",
       "    <tr>\n",
       "      <th>8387</th>\n",
       "      <td>Ord_1390</td>\n",
       "      <td>Prod_14</td>\n",
       "      <td>SHP_1919</td>\n",
       "      <td>Cust_537</td>\n",
       "      <td>6933.45</td>\n",
       "      <td>0.04</td>\n",
       "      <td>15</td>\n",
       "      <td>1200.21</td>\n",
       "      <td>49.00</td>\n",
       "      <td>0.38</td>\n",
       "      <td>RUBEN AUSMAN</td>\n",
       "      <td>ONTARIO</td>\n",
       "      <td>ONTARIO</td>\n",
       "      <td>CORPORATE</td>\n",
       "      <td>TECHNOLOGY</td>\n",
       "      <td>COPIERS AND FAX</td>\n",
       "    </tr>\n",
       "    <tr>\n",
       "      <th>8398</th>\n",
       "      <td>Ord_3610</td>\n",
       "      <td>Prod_14</td>\n",
       "      <td>SHP_4998</td>\n",
       "      <td>Cust_1266</td>\n",
       "      <td>1759.65</td>\n",
       "      <td>0.06</td>\n",
       "      <td>3</td>\n",
       "      <td>-2213.75</td>\n",
       "      <td>24.49</td>\n",
       "      <td>0.50</td>\n",
       "      <td>WILLIAM BROWN</td>\n",
       "      <td>SASKACHEWAN</td>\n",
       "      <td>PRARIE</td>\n",
       "      <td>CORPORATE</td>\n",
       "      <td>TECHNOLOGY</td>\n",
       "      <td>COPIERS AND FAX</td>\n",
       "    </tr>\n",
       "  </tbody>\n",
       "</table>\n",
       "<p>3076 rows × 16 columns</p>\n",
       "</div>"
      ],
      "text/plain": [
       "        Ord_id  Prod_id   Ship_id    Cust_id     Sales  Discount  \\\n",
       "0     Ord_5446  Prod_16  SHP_7609  Cust_1818    136.81      0.01   \n",
       "3     Ord_3730  Prod_16  SHP_5175  Cust_1314    459.08      0.04   \n",
       "7     Ord_4506  Prod_16  SHP_6273  Cust_1544     92.02      0.07   \n",
       "9     Ord_1551  Prod_16  SHP_2145   Cust_531    184.77      0.00   \n",
       "11    Ord_1429  Prod_16  SHP_1976   Cust_510    539.06      0.05   \n",
       "...        ...      ...       ...        ...       ...       ...   \n",
       "8384  Ord_1265  Prod_14  SHP_1749   Cust_466  24051.49      0.07   \n",
       "8385   Ord_669  Prod_14   SHP_916   Cust_224  20872.16      0.03   \n",
       "8386   Ord_171  Prod_14   SHP_231  Cust_1194   6350.29      0.02   \n",
       "8387  Ord_1390  Prod_14  SHP_1919   Cust_537   6933.45      0.04   \n",
       "8398  Ord_3610  Prod_14  SHP_4998  Cust_1266   1759.65      0.06   \n",
       "\n",
       "      Order_Quantity   Profit  Shipping_Cost  Product_Base_Margin  \\\n",
       "0                 23   -30.51           3.60                 0.56   \n",
       "3                 34    61.57           3.14                 0.60   \n",
       "7                  9   -24.88           4.68                 0.59   \n",
       "9                 29   -71.96           5.30                 0.55   \n",
       "11                42  -123.07           4.59                 0.82   \n",
       "...              ...      ...            ...                  ...   \n",
       "8384              41  9791.04          24.49                 0.37   \n",
       "8385              29 -4437.91          24.49                 0.41   \n",
       "8386              10  -735.97          24.49                 0.50   \n",
       "8387              15  1200.21          49.00                 0.38   \n",
       "8398               3 -2213.75          24.49                 0.50   \n",
       "\n",
       "            Customer_Name          Province   Region Customer_Segment  \\\n",
       "0           AARON BERGMAN           ALBERTA     WEST        CORPORATE   \n",
       "3     ALEKSANDRA GANNAWAY       SASKACHEWAN   PRARIE        CORPORATE   \n",
       "7                 AMY COX             YUKON    YUKON        CORPORATE   \n",
       "9              ANDY YOTOV           ONTARIO  ONTARIO        CORPORATE   \n",
       "11          ANNA HABERLIN           ONTARIO  ONTARIO        CORPORATE   \n",
       "...                   ...               ...      ...              ...   \n",
       "8384      RITSA HIGHTOWER           ONTARIO  ONTARIO        CORPORATE   \n",
       "8385           ROY SKARIA  BRITISH COLUMBIA     WEST        CORPORATE   \n",
       "8386           ROY SKARIA          MANITOBA   PRARIE        CORPORATE   \n",
       "8387         RUBEN AUSMAN           ONTARIO  ONTARIO        CORPORATE   \n",
       "8398        WILLIAM BROWN       SASKACHEWAN   PRARIE        CORPORATE   \n",
       "\n",
       "     Product_Category           Product_Sub_Category  \n",
       "0     OFFICE SUPPLIES  SCISSORS, RULERS AND TRIMMERS  \n",
       "3     OFFICE SUPPLIES  SCISSORS, RULERS AND TRIMMERS  \n",
       "7     OFFICE SUPPLIES  SCISSORS, RULERS AND TRIMMERS  \n",
       "9     OFFICE SUPPLIES  SCISSORS, RULERS AND TRIMMERS  \n",
       "11    OFFICE SUPPLIES  SCISSORS, RULERS AND TRIMMERS  \n",
       "...               ...                            ...  \n",
       "8384       TECHNOLOGY                COPIERS AND FAX  \n",
       "8385       TECHNOLOGY                COPIERS AND FAX  \n",
       "8386       TECHNOLOGY                COPIERS AND FAX  \n",
       "8387       TECHNOLOGY                COPIERS AND FAX  \n",
       "8398       TECHNOLOGY                COPIERS AND FAX  \n",
       "\n",
       "[3076 rows x 16 columns]"
      ]
     },
     "execution_count": 55,
     "metadata": {},
     "output_type": "execute_result"
    }
   ],
   "source": [
    "by_cust_segment.get_group('CORPORATE')"
   ]
  },
  {
   "cell_type": "code",
   "execution_count": 56,
   "id": "2425747b",
   "metadata": {},
   "outputs": [
    {
     "data": {
      "text/plain": [
       "Customer_Segment\n",
       "CONSUMER          287959.94\n",
       "CORPORATE         599746.00\n",
       "HOME OFFICE       318354.03\n",
       "SMALL BUSINESS    315708.01\n",
       "Name: Profit, dtype: float64"
      ]
     },
     "execution_count": 56,
     "metadata": {},
     "output_type": "execute_result"
    }
   ],
   "source": [
    "by_cust_segment['Profit'].sum()"
   ]
  },
  {
   "cell_type": "code",
   "execution_count": 57,
   "id": "f30c9cd8",
   "metadata": {},
   "outputs": [
    {
     "data": {
      "text/plain": [
       "Customer_Segment\n",
       "CONSUMER          287959.94\n",
       "SMALL BUSINESS    315708.01\n",
       "HOME OFFICE       318354.03\n",
       "CORPORATE         599746.00\n",
       "Name: Profit, dtype: float64"
      ]
     },
     "execution_count": 57,
     "metadata": {},
     "output_type": "execute_result"
    }
   ],
   "source": [
    "by_cust_segment['Profit'].sum().sort_values()"
   ]
  },
  {
   "cell_type": "code",
   "execution_count": 58,
   "id": "ae5a35d0",
   "metadata": {},
   "outputs": [
    {
     "data": {
      "text/plain": [
       "Customer_Segment\n",
       "CORPORATE         599746.00\n",
       "HOME OFFICE       318354.03\n",
       "SMALL BUSINESS    315708.01\n",
       "CONSUMER          287959.94\n",
       "Name: Profit, dtype: float64"
      ]
     },
     "execution_count": 58,
     "metadata": {},
     "output_type": "execute_result"
    }
   ],
   "source": [
    "by_cust_segment['Profit'].sum().sort_values(ascending = False)"
   ]
  },
  {
   "cell_type": "code",
   "execution_count": 64,
   "id": "36e9a39d",
   "metadata": {},
   "outputs": [
    {
     "data": {
      "text/plain": [
       "Product_Category\n",
       "FURNITURE          117433.03\n",
       "OFFICE SUPPLIES    518021.43\n",
       "TECHNOLOGY         886313.52\n",
       "Name: Profit, dtype: float64"
      ]
     },
     "execution_count": 64,
     "metadata": {},
     "output_type": "execute_result"
    }
   ],
   "source": [
    "by_cust_segment['Profit'].sum()"
   ]
  },
  {
   "cell_type": "code",
   "execution_count": 66,
   "id": "02339cfc",
   "metadata": {},
   "outputs": [],
   "source": [
    "by_cat_subcat = master.groupby(['Product_Category','Product_Sub_Category'])"
   ]
  },
  {
   "cell_type": "code",
   "execution_count": 68,
   "id": "6616287c",
   "metadata": {},
   "outputs": [
    {
     "data": {
      "text/plain": [
       "Product_Category  Product_Sub_Category          \n",
       "FURNITURE         BOOKCASES                         -33582.13\n",
       "                  CHAIRS & CHAIRMATS                149649.73\n",
       "                  OFFICE FURNISHINGS                100427.93\n",
       "                  TABLES                            -99062.50\n",
       "OFFICE SUPPLIES   APPLIANCES                         97158.06\n",
       "                  BINDERS AND BINDER ACCESSORIES    307413.39\n",
       "                  ENVELOPES                          48182.60\n",
       "                  LABELS                             13677.17\n",
       "                  PAPER                              45263.20\n",
       "                  PENS & ART SUPPLIES                 7564.78\n",
       "                  RUBBER BANDS                        -102.67\n",
       "                  SCISSORS, RULERS AND TRIMMERS      -7799.25\n",
       "                  STORAGE & ORGANIZATION              6664.15\n",
       "TECHNOLOGY        COMPUTER PERIPHERALS               94287.48\n",
       "                  COPIERS AND FAX                   167361.49\n",
       "                  OFFICE MACHINES                   307712.93\n",
       "                  TELEPHONES AND COMMUNICATION      316951.62\n",
       "Name: Profit, dtype: float64"
      ]
     },
     "execution_count": 68,
     "metadata": {},
     "output_type": "execute_result"
    }
   ],
   "source": [
    "by_cat_subcat['Profit'].sum()"
   ]
  },
  {
   "cell_type": "code",
   "execution_count": 69,
   "id": "a26ef89a",
   "metadata": {},
   "outputs": [],
   "source": [
    "data = pd.read_csv('weather_data.csv')"
   ]
  },
  {
   "cell_type": "code",
   "execution_count": 70,
   "id": "c57f1943",
   "metadata": {},
   "outputs": [
    {
     "data": {
      "text/html": [
       "<div>\n",
       "<style scoped>\n",
       "    .dataframe tbody tr th:only-of-type {\n",
       "        vertical-align: middle;\n",
       "    }\n",
       "\n",
       "    .dataframe tbody tr th {\n",
       "        vertical-align: top;\n",
       "    }\n",
       "\n",
       "    .dataframe thead th {\n",
       "        text-align: right;\n",
       "    }\n",
       "</style>\n",
       "<table border=\"1\" class=\"dataframe\">\n",
       "  <thead>\n",
       "    <tr style=\"text-align: right;\">\n",
       "      <th></th>\n",
       "      <th>Temperature</th>\n",
       "      <th>DewPoint</th>\n",
       "      <th>Pressure</th>\n",
       "      <th>Date_Time</th>\n",
       "    </tr>\n",
       "  </thead>\n",
       "  <tbody>\n",
       "    <tr>\n",
       "      <th>0</th>\n",
       "      <td>46.2</td>\n",
       "      <td>37.5</td>\n",
       "      <td>1</td>\n",
       "      <td>20100101 00:00</td>\n",
       "    </tr>\n",
       "    <tr>\n",
       "      <th>1</th>\n",
       "      <td>44.6</td>\n",
       "      <td>37.1</td>\n",
       "      <td>1</td>\n",
       "      <td>20100101 01:00</td>\n",
       "    </tr>\n",
       "    <tr>\n",
       "      <th>2</th>\n",
       "      <td>44.1</td>\n",
       "      <td>36.9</td>\n",
       "      <td>1</td>\n",
       "      <td>20100101 02:00</td>\n",
       "    </tr>\n",
       "    <tr>\n",
       "      <th>3</th>\n",
       "      <td>43.8</td>\n",
       "      <td>36.9</td>\n",
       "      <td>1</td>\n",
       "      <td>20100101 03:00</td>\n",
       "    </tr>\n",
       "    <tr>\n",
       "      <th>4</th>\n",
       "      <td>43.5</td>\n",
       "      <td>36.8</td>\n",
       "      <td>1</td>\n",
       "      <td>20100101 04:00</td>\n",
       "    </tr>\n",
       "  </tbody>\n",
       "</table>\n",
       "</div>"
      ],
      "text/plain": [
       "   Temperature  DewPoint  Pressure       Date_Time\n",
       "0         46.2      37.5         1  20100101 00:00\n",
       "1         44.6      37.1         1  20100101 01:00\n",
       "2         44.1      36.9         1  20100101 02:00\n",
       "3         43.8      36.9         1  20100101 03:00\n",
       "4         43.5      36.8         1  20100101 04:00"
      ]
     },
     "execution_count": 70,
     "metadata": {},
     "output_type": "execute_result"
    }
   ],
   "source": [
    "data.head()"
   ]
  },
  {
   "cell_type": "code",
   "execution_count": 73,
   "id": "6ca5b848",
   "metadata": {},
   "outputs": [],
   "source": [
    "data = pd.read_csv('weather_data.csv',parse_dates = ['Date_Time'])"
   ]
  },
  {
   "cell_type": "code",
   "execution_count": 74,
   "id": "80a6bbc8",
   "metadata": {},
   "outputs": [
    {
     "data": {
      "text/html": [
       "<div>\n",
       "<style scoped>\n",
       "    .dataframe tbody tr th:only-of-type {\n",
       "        vertical-align: middle;\n",
       "    }\n",
       "\n",
       "    .dataframe tbody tr th {\n",
       "        vertical-align: top;\n",
       "    }\n",
       "\n",
       "    .dataframe thead th {\n",
       "        text-align: right;\n",
       "    }\n",
       "</style>\n",
       "<table border=\"1\" class=\"dataframe\">\n",
       "  <thead>\n",
       "    <tr style=\"text-align: right;\">\n",
       "      <th></th>\n",
       "      <th>Temperature</th>\n",
       "      <th>DewPoint</th>\n",
       "      <th>Pressure</th>\n",
       "      <th>Date_Time</th>\n",
       "    </tr>\n",
       "  </thead>\n",
       "  <tbody>\n",
       "    <tr>\n",
       "      <th>0</th>\n",
       "      <td>46.2</td>\n",
       "      <td>37.5</td>\n",
       "      <td>1</td>\n",
       "      <td>2010-01-01 00:00:00</td>\n",
       "    </tr>\n",
       "    <tr>\n",
       "      <th>1</th>\n",
       "      <td>44.6</td>\n",
       "      <td>37.1</td>\n",
       "      <td>1</td>\n",
       "      <td>2010-01-01 01:00:00</td>\n",
       "    </tr>\n",
       "    <tr>\n",
       "      <th>2</th>\n",
       "      <td>44.1</td>\n",
       "      <td>36.9</td>\n",
       "      <td>1</td>\n",
       "      <td>2010-01-01 02:00:00</td>\n",
       "    </tr>\n",
       "    <tr>\n",
       "      <th>3</th>\n",
       "      <td>43.8</td>\n",
       "      <td>36.9</td>\n",
       "      <td>1</td>\n",
       "      <td>2010-01-01 03:00:00</td>\n",
       "    </tr>\n",
       "    <tr>\n",
       "      <th>4</th>\n",
       "      <td>43.5</td>\n",
       "      <td>36.8</td>\n",
       "      <td>1</td>\n",
       "      <td>2010-01-01 04:00:00</td>\n",
       "    </tr>\n",
       "  </tbody>\n",
       "</table>\n",
       "</div>"
      ],
      "text/plain": [
       "   Temperature  DewPoint  Pressure           Date_Time\n",
       "0         46.2      37.5         1 2010-01-01 00:00:00\n",
       "1         44.6      37.1         1 2010-01-01 01:00:00\n",
       "2         44.1      36.9         1 2010-01-01 02:00:00\n",
       "3         43.8      36.9         1 2010-01-01 03:00:00\n",
       "4         43.5      36.8         1 2010-01-01 04:00:00"
      ]
     },
     "execution_count": 74,
     "metadata": {},
     "output_type": "execute_result"
    }
   ],
   "source": [
    "data.head()"
   ]
  },
  {
   "cell_type": "code",
   "execution_count": 75,
   "id": "922f806f",
   "metadata": {},
   "outputs": [],
   "source": [
    "data['year'] = data['Date_Time'].dt.year\n",
    "data['month'] = data['Date_Time'].dt.month\n",
    "data['day'] = data['Date_Time'].dt.day"
   ]
  },
  {
   "cell_type": "code",
   "execution_count": 76,
   "id": "5bd59da9",
   "metadata": {},
   "outputs": [
    {
     "data": {
      "text/html": [
       "<div>\n",
       "<style scoped>\n",
       "    .dataframe tbody tr th:only-of-type {\n",
       "        vertical-align: middle;\n",
       "    }\n",
       "\n",
       "    .dataframe tbody tr th {\n",
       "        vertical-align: top;\n",
       "    }\n",
       "\n",
       "    .dataframe thead th {\n",
       "        text-align: right;\n",
       "    }\n",
       "</style>\n",
       "<table border=\"1\" class=\"dataframe\">\n",
       "  <thead>\n",
       "    <tr style=\"text-align: right;\">\n",
       "      <th></th>\n",
       "      <th>Temperature</th>\n",
       "      <th>DewPoint</th>\n",
       "      <th>Pressure</th>\n",
       "      <th>Date_Time</th>\n",
       "      <th>year</th>\n",
       "      <th>month</th>\n",
       "      <th>day</th>\n",
       "    </tr>\n",
       "  </thead>\n",
       "  <tbody>\n",
       "    <tr>\n",
       "      <th>0</th>\n",
       "      <td>46.2</td>\n",
       "      <td>37.5</td>\n",
       "      <td>1</td>\n",
       "      <td>2010-01-01 00:00:00</td>\n",
       "      <td>2010</td>\n",
       "      <td>1</td>\n",
       "      <td>1</td>\n",
       "    </tr>\n",
       "    <tr>\n",
       "      <th>1</th>\n",
       "      <td>44.6</td>\n",
       "      <td>37.1</td>\n",
       "      <td>1</td>\n",
       "      <td>2010-01-01 01:00:00</td>\n",
       "      <td>2010</td>\n",
       "      <td>1</td>\n",
       "      <td>1</td>\n",
       "    </tr>\n",
       "    <tr>\n",
       "      <th>2</th>\n",
       "      <td>44.1</td>\n",
       "      <td>36.9</td>\n",
       "      <td>1</td>\n",
       "      <td>2010-01-01 02:00:00</td>\n",
       "      <td>2010</td>\n",
       "      <td>1</td>\n",
       "      <td>1</td>\n",
       "    </tr>\n",
       "    <tr>\n",
       "      <th>3</th>\n",
       "      <td>43.8</td>\n",
       "      <td>36.9</td>\n",
       "      <td>1</td>\n",
       "      <td>2010-01-01 03:00:00</td>\n",
       "      <td>2010</td>\n",
       "      <td>1</td>\n",
       "      <td>1</td>\n",
       "    </tr>\n",
       "    <tr>\n",
       "      <th>4</th>\n",
       "      <td>43.5</td>\n",
       "      <td>36.8</td>\n",
       "      <td>1</td>\n",
       "      <td>2010-01-01 04:00:00</td>\n",
       "      <td>2010</td>\n",
       "      <td>1</td>\n",
       "      <td>1</td>\n",
       "    </tr>\n",
       "  </tbody>\n",
       "</table>\n",
       "</div>"
      ],
      "text/plain": [
       "   Temperature  DewPoint  Pressure           Date_Time  year  month  day\n",
       "0         46.2      37.5         1 2010-01-01 00:00:00  2010      1    1\n",
       "1         44.6      37.1         1 2010-01-01 01:00:00  2010      1    1\n",
       "2         44.1      36.9         1 2010-01-01 02:00:00  2010      1    1\n",
       "3         43.8      36.9         1 2010-01-01 03:00:00  2010      1    1\n",
       "4         43.5      36.8         1 2010-01-01 04:00:00  2010      1    1"
      ]
     },
     "execution_count": 76,
     "metadata": {},
     "output_type": "execute_result"
    }
   ],
   "source": [
    "data.head()"
   ]
  },
  {
   "cell_type": "code",
   "execution_count": 98,
   "id": "c4a65dcb",
   "metadata": {},
   "outputs": [],
   "source": [
    "data = pd.read_csv('weather_data.csv', index_col = 'Date_Time',parse_dates = True)"
   ]
  },
  {
   "cell_type": "code",
   "execution_count": 100,
   "id": "fb2393f0",
   "metadata": {},
   "outputs": [
    {
     "data": {
      "text/html": [
       "<div>\n",
       "<style scoped>\n",
       "    .dataframe tbody tr th:only-of-type {\n",
       "        vertical-align: middle;\n",
       "    }\n",
       "\n",
       "    .dataframe tbody tr th {\n",
       "        vertical-align: top;\n",
       "    }\n",
       "\n",
       "    .dataframe thead th {\n",
       "        text-align: right;\n",
       "    }\n",
       "</style>\n",
       "<table border=\"1\" class=\"dataframe\">\n",
       "  <thead>\n",
       "    <tr style=\"text-align: right;\">\n",
       "      <th></th>\n",
       "      <th>Temperature</th>\n",
       "      <th>DewPoint</th>\n",
       "      <th>Pressure</th>\n",
       "    </tr>\n",
       "    <tr>\n",
       "      <th>Date_Time</th>\n",
       "      <th></th>\n",
       "      <th></th>\n",
       "      <th></th>\n",
       "    </tr>\n",
       "  </thead>\n",
       "  <tbody>\n",
       "    <tr>\n",
       "      <th>2010-01-01 00:00:00</th>\n",
       "      <td>46.2</td>\n",
       "      <td>37.5</td>\n",
       "      <td>1</td>\n",
       "    </tr>\n",
       "    <tr>\n",
       "      <th>2010-01-01 01:00:00</th>\n",
       "      <td>44.6</td>\n",
       "      <td>37.1</td>\n",
       "      <td>1</td>\n",
       "    </tr>\n",
       "    <tr>\n",
       "      <th>2010-01-01 02:00:00</th>\n",
       "      <td>44.1</td>\n",
       "      <td>36.9</td>\n",
       "      <td>1</td>\n",
       "    </tr>\n",
       "    <tr>\n",
       "      <th>2010-01-01 03:00:00</th>\n",
       "      <td>43.8</td>\n",
       "      <td>36.9</td>\n",
       "      <td>1</td>\n",
       "    </tr>\n",
       "    <tr>\n",
       "      <th>2010-01-01 04:00:00</th>\n",
       "      <td>43.5</td>\n",
       "      <td>36.8</td>\n",
       "      <td>1</td>\n",
       "    </tr>\n",
       "  </tbody>\n",
       "</table>\n",
       "</div>"
      ],
      "text/plain": [
       "                     Temperature  DewPoint  Pressure\n",
       "Date_Time                                           \n",
       "2010-01-01 00:00:00         46.2      37.5         1\n",
       "2010-01-01 01:00:00         44.6      37.1         1\n",
       "2010-01-01 02:00:00         44.1      36.9         1\n",
       "2010-01-01 03:00:00         43.8      36.9         1\n",
       "2010-01-01 04:00:00         43.5      36.8         1"
      ]
     },
     "execution_count": 100,
     "metadata": {},
     "output_type": "execute_result"
    }
   ],
   "source": [
    "data.head()"
   ]
  },
  {
   "cell_type": "code",
   "execution_count": 101,
   "id": "1cf993f5",
   "metadata": {},
   "outputs": [],
   "source": [
    "data.index.name = None"
   ]
  },
  {
   "cell_type": "code",
   "execution_count": 102,
   "id": "38a1c507",
   "metadata": {},
   "outputs": [
    {
     "data": {
      "text/html": [
       "<div>\n",
       "<style scoped>\n",
       "    .dataframe tbody tr th:only-of-type {\n",
       "        vertical-align: middle;\n",
       "    }\n",
       "\n",
       "    .dataframe tbody tr th {\n",
       "        vertical-align: top;\n",
       "    }\n",
       "\n",
       "    .dataframe thead th {\n",
       "        text-align: right;\n",
       "    }\n",
       "</style>\n",
       "<table border=\"1\" class=\"dataframe\">\n",
       "  <thead>\n",
       "    <tr style=\"text-align: right;\">\n",
       "      <th></th>\n",
       "      <th>Temperature</th>\n",
       "      <th>DewPoint</th>\n",
       "      <th>Pressure</th>\n",
       "    </tr>\n",
       "  </thead>\n",
       "  <tbody>\n",
       "    <tr>\n",
       "      <th>2010-01-01 00:00:00</th>\n",
       "      <td>46.2</td>\n",
       "      <td>37.5</td>\n",
       "      <td>1</td>\n",
       "    </tr>\n",
       "    <tr>\n",
       "      <th>2010-01-01 01:00:00</th>\n",
       "      <td>44.6</td>\n",
       "      <td>37.1</td>\n",
       "      <td>1</td>\n",
       "    </tr>\n",
       "    <tr>\n",
       "      <th>2010-01-01 02:00:00</th>\n",
       "      <td>44.1</td>\n",
       "      <td>36.9</td>\n",
       "      <td>1</td>\n",
       "    </tr>\n",
       "    <tr>\n",
       "      <th>2010-01-01 03:00:00</th>\n",
       "      <td>43.8</td>\n",
       "      <td>36.9</td>\n",
       "      <td>1</td>\n",
       "    </tr>\n",
       "    <tr>\n",
       "      <th>2010-01-01 04:00:00</th>\n",
       "      <td>43.5</td>\n",
       "      <td>36.8</td>\n",
       "      <td>1</td>\n",
       "    </tr>\n",
       "  </tbody>\n",
       "</table>\n",
       "</div>"
      ],
      "text/plain": [
       "                     Temperature  DewPoint  Pressure\n",
       "2010-01-01 00:00:00         46.2      37.5         1\n",
       "2010-01-01 01:00:00         44.6      37.1         1\n",
       "2010-01-01 02:00:00         44.1      36.9         1\n",
       "2010-01-01 03:00:00         43.8      36.9         1\n",
       "2010-01-01 04:00:00         43.5      36.8         1"
      ]
     },
     "execution_count": 102,
     "metadata": {},
     "output_type": "execute_result"
    }
   ],
   "source": [
    "data.head()"
   ]
  },
  {
   "cell_type": "code",
   "execution_count": 105,
   "id": "046eb2ff",
   "metadata": {},
   "outputs": [
    {
     "data": {
      "text/plain": [
       "Temperature    54.0\n",
       "DewPoint       41.0\n",
       "Pressure        1.0\n",
       "Name: 2010-02-05 11:00:00, dtype: float64"
      ]
     },
     "execution_count": 105,
     "metadata": {},
     "output_type": "execute_result"
    }
   ],
   "source": [
    "data.loc['2010-02-05 11:00:00']"
   ]
  },
  {
   "cell_type": "code",
   "execution_count": 107,
   "id": "7aecade0",
   "metadata": {},
   "outputs": [
    {
     "data": {
      "text/html": [
       "<div>\n",
       "<style scoped>\n",
       "    .dataframe tbody tr th:only-of-type {\n",
       "        vertical-align: middle;\n",
       "    }\n",
       "\n",
       "    .dataframe tbody tr th {\n",
       "        vertical-align: top;\n",
       "    }\n",
       "\n",
       "    .dataframe thead th {\n",
       "        text-align: right;\n",
       "    }\n",
       "</style>\n",
       "<table border=\"1\" class=\"dataframe\">\n",
       "  <thead>\n",
       "    <tr style=\"text-align: right;\">\n",
       "      <th></th>\n",
       "      <th>Temperature</th>\n",
       "      <th>DewPoint</th>\n",
       "      <th>Pressure</th>\n",
       "    </tr>\n",
       "  </thead>\n",
       "  <tbody>\n",
       "    <tr>\n",
       "      <th>2010-02-05 11:00:00</th>\n",
       "      <td>54.0</td>\n",
       "      <td>41.0</td>\n",
       "      <td>1</td>\n",
       "    </tr>\n",
       "    <tr>\n",
       "      <th>2010-02-05 12:00:00</th>\n",
       "      <td>56.1</td>\n",
       "      <td>40.7</td>\n",
       "      <td>1</td>\n",
       "    </tr>\n",
       "    <tr>\n",
       "      <th>2010-02-05 13:00:00</th>\n",
       "      <td>58.1</td>\n",
       "      <td>40.9</td>\n",
       "      <td>1</td>\n",
       "    </tr>\n",
       "    <tr>\n",
       "      <th>2010-02-05 14:00:00</th>\n",
       "      <td>59.6</td>\n",
       "      <td>40.8</td>\n",
       "      <td>1</td>\n",
       "    </tr>\n",
       "    <tr>\n",
       "      <th>2010-02-05 15:00:00</th>\n",
       "      <td>60.4</td>\n",
       "      <td>40.7</td>\n",
       "      <td>1</td>\n",
       "    </tr>\n",
       "    <tr>\n",
       "      <th>...</th>\n",
       "      <td>...</td>\n",
       "      <td>...</td>\n",
       "      <td>...</td>\n",
       "    </tr>\n",
       "    <tr>\n",
       "      <th>2010-12-31 19:00:00</th>\n",
       "      <td>51.1</td>\n",
       "      <td>38.1</td>\n",
       "      <td>1</td>\n",
       "    </tr>\n",
       "    <tr>\n",
       "      <th>2010-12-31 20:00:00</th>\n",
       "      <td>49.0</td>\n",
       "      <td>37.9</td>\n",
       "      <td>1</td>\n",
       "    </tr>\n",
       "    <tr>\n",
       "      <th>2010-12-31 21:00:00</th>\n",
       "      <td>47.9</td>\n",
       "      <td>37.9</td>\n",
       "      <td>1</td>\n",
       "    </tr>\n",
       "    <tr>\n",
       "      <th>2010-12-31 22:00:00</th>\n",
       "      <td>46.9</td>\n",
       "      <td>37.9</td>\n",
       "      <td>1</td>\n",
       "    </tr>\n",
       "    <tr>\n",
       "      <th>2010-12-31 23:00:00</th>\n",
       "      <td>46.2</td>\n",
       "      <td>37.7</td>\n",
       "      <td>1</td>\n",
       "    </tr>\n",
       "  </tbody>\n",
       "</table>\n",
       "<p>7908 rows × 3 columns</p>\n",
       "</div>"
      ],
      "text/plain": [
       "                     Temperature  DewPoint  Pressure\n",
       "2010-02-05 11:00:00         54.0      41.0         1\n",
       "2010-02-05 12:00:00         56.1      40.7         1\n",
       "2010-02-05 13:00:00         58.1      40.9         1\n",
       "2010-02-05 14:00:00         59.6      40.8         1\n",
       "2010-02-05 15:00:00         60.4      40.7         1\n",
       "...                          ...       ...       ...\n",
       "2010-12-31 19:00:00         51.1      38.1         1\n",
       "2010-12-31 20:00:00         49.0      37.9         1\n",
       "2010-12-31 21:00:00         47.9      37.9         1\n",
       "2010-12-31 22:00:00         46.9      37.9         1\n",
       "2010-12-31 23:00:00         46.2      37.7         1\n",
       "\n",
       "[7908 rows x 3 columns]"
      ]
     },
     "execution_count": 107,
     "metadata": {},
     "output_type": "execute_result"
    }
   ],
   "source": [
    "data.loc['2010-02-05 11:00:00': '2011-02-05 17:00:00' ]"
   ]
  },
  {
   "cell_type": "code",
   "execution_count": 109,
   "id": "87fca498",
   "metadata": {},
   "outputs": [],
   "source": [
    "iris = pd.read_csv('https://archive.ics.uci.edu/ml/machine-learning-databases/iris/iris.data')"
   ]
  },
  {
   "cell_type": "code",
   "execution_count": 110,
   "id": "45c3705d",
   "metadata": {},
   "outputs": [
    {
     "data": {
      "text/html": [
       "<div>\n",
       "<style scoped>\n",
       "    .dataframe tbody tr th:only-of-type {\n",
       "        vertical-align: middle;\n",
       "    }\n",
       "\n",
       "    .dataframe tbody tr th {\n",
       "        vertical-align: top;\n",
       "    }\n",
       "\n",
       "    .dataframe thead th {\n",
       "        text-align: right;\n",
       "    }\n",
       "</style>\n",
       "<table border=\"1\" class=\"dataframe\">\n",
       "  <thead>\n",
       "    <tr style=\"text-align: right;\">\n",
       "      <th></th>\n",
       "      <th>5.1</th>\n",
       "      <th>3.5</th>\n",
       "      <th>1.4</th>\n",
       "      <th>0.2</th>\n",
       "      <th>Iris-setosa</th>\n",
       "    </tr>\n",
       "  </thead>\n",
       "  <tbody>\n",
       "    <tr>\n",
       "      <th>0</th>\n",
       "      <td>4.9</td>\n",
       "      <td>3.0</td>\n",
       "      <td>1.4</td>\n",
       "      <td>0.2</td>\n",
       "      <td>Iris-setosa</td>\n",
       "    </tr>\n",
       "    <tr>\n",
       "      <th>1</th>\n",
       "      <td>4.7</td>\n",
       "      <td>3.2</td>\n",
       "      <td>1.3</td>\n",
       "      <td>0.2</td>\n",
       "      <td>Iris-setosa</td>\n",
       "    </tr>\n",
       "    <tr>\n",
       "      <th>2</th>\n",
       "      <td>4.6</td>\n",
       "      <td>3.1</td>\n",
       "      <td>1.5</td>\n",
       "      <td>0.2</td>\n",
       "      <td>Iris-setosa</td>\n",
       "    </tr>\n",
       "    <tr>\n",
       "      <th>3</th>\n",
       "      <td>5.0</td>\n",
       "      <td>3.6</td>\n",
       "      <td>1.4</td>\n",
       "      <td>0.2</td>\n",
       "      <td>Iris-setosa</td>\n",
       "    </tr>\n",
       "    <tr>\n",
       "      <th>4</th>\n",
       "      <td>5.4</td>\n",
       "      <td>3.9</td>\n",
       "      <td>1.7</td>\n",
       "      <td>0.4</td>\n",
       "      <td>Iris-setosa</td>\n",
       "    </tr>\n",
       "  </tbody>\n",
       "</table>\n",
       "</div>"
      ],
      "text/plain": [
       "   5.1  3.5  1.4  0.2  Iris-setosa\n",
       "0  4.9  3.0  1.4  0.2  Iris-setosa\n",
       "1  4.7  3.2  1.3  0.2  Iris-setosa\n",
       "2  4.6  3.1  1.5  0.2  Iris-setosa\n",
       "3  5.0  3.6  1.4  0.2  Iris-setosa\n",
       "4  5.4  3.9  1.7  0.4  Iris-setosa"
      ]
     },
     "execution_count": 110,
     "metadata": {},
     "output_type": "execute_result"
    }
   ],
   "source": [
    "iris.head()"
   ]
  },
  {
   "cell_type": "code",
   "execution_count": 111,
   "id": "7d3d2885",
   "metadata": {},
   "outputs": [],
   "source": [
    "columns = ['sepal_len','sepal_wid','petal_len','petal_wid','class']"
   ]
  },
  {
   "cell_type": "code",
   "execution_count": 113,
   "id": "a10df0f8",
   "metadata": {},
   "outputs": [
    {
     "data": {
      "text/plain": [
       "['sepal_len', 'sepal_wid', 'petal_len', 'petal_wid', 'class']"
      ]
     },
     "execution_count": 113,
     "metadata": {},
     "output_type": "execute_result"
    }
   ],
   "source": [
    "columns"
   ]
  },
  {
   "cell_type": "code",
   "execution_count": 115,
   "id": "0881088c",
   "metadata": {},
   "outputs": [],
   "source": [
    "iris = pd.read_csv('https://archive.ics.uci.edu/ml/machine-learning-databases/iris/iris.data', names = columns)"
   ]
  },
  {
   "cell_type": "code",
   "execution_count": 116,
   "id": "344e0085",
   "metadata": {},
   "outputs": [
    {
     "data": {
      "text/html": [
       "<div>\n",
       "<style scoped>\n",
       "    .dataframe tbody tr th:only-of-type {\n",
       "        vertical-align: middle;\n",
       "    }\n",
       "\n",
       "    .dataframe tbody tr th {\n",
       "        vertical-align: top;\n",
       "    }\n",
       "\n",
       "    .dataframe thead th {\n",
       "        text-align: right;\n",
       "    }\n",
       "</style>\n",
       "<table border=\"1\" class=\"dataframe\">\n",
       "  <thead>\n",
       "    <tr style=\"text-align: right;\">\n",
       "      <th></th>\n",
       "      <th>sepal_len</th>\n",
       "      <th>sepal_wid</th>\n",
       "      <th>petal_len</th>\n",
       "      <th>petal_wid</th>\n",
       "      <th>class</th>\n",
       "    </tr>\n",
       "  </thead>\n",
       "  <tbody>\n",
       "    <tr>\n",
       "      <th>0</th>\n",
       "      <td>5.1</td>\n",
       "      <td>3.5</td>\n",
       "      <td>1.4</td>\n",
       "      <td>0.2</td>\n",
       "      <td>Iris-setosa</td>\n",
       "    </tr>\n",
       "    <tr>\n",
       "      <th>1</th>\n",
       "      <td>4.9</td>\n",
       "      <td>3.0</td>\n",
       "      <td>1.4</td>\n",
       "      <td>0.2</td>\n",
       "      <td>Iris-setosa</td>\n",
       "    </tr>\n",
       "    <tr>\n",
       "      <th>2</th>\n",
       "      <td>4.7</td>\n",
       "      <td>3.2</td>\n",
       "      <td>1.3</td>\n",
       "      <td>0.2</td>\n",
       "      <td>Iris-setosa</td>\n",
       "    </tr>\n",
       "    <tr>\n",
       "      <th>3</th>\n",
       "      <td>4.6</td>\n",
       "      <td>3.1</td>\n",
       "      <td>1.5</td>\n",
       "      <td>0.2</td>\n",
       "      <td>Iris-setosa</td>\n",
       "    </tr>\n",
       "    <tr>\n",
       "      <th>4</th>\n",
       "      <td>5.0</td>\n",
       "      <td>3.6</td>\n",
       "      <td>1.4</td>\n",
       "      <td>0.2</td>\n",
       "      <td>Iris-setosa</td>\n",
       "    </tr>\n",
       "  </tbody>\n",
       "</table>\n",
       "</div>"
      ],
      "text/plain": [
       "   sepal_len  sepal_wid  petal_len  petal_wid        class\n",
       "0        5.1        3.5        1.4        0.2  Iris-setosa\n",
       "1        4.9        3.0        1.4        0.2  Iris-setosa\n",
       "2        4.7        3.2        1.3        0.2  Iris-setosa\n",
       "3        4.6        3.1        1.5        0.2  Iris-setosa\n",
       "4        5.0        3.6        1.4        0.2  Iris-setosa"
      ]
     },
     "execution_count": 116,
     "metadata": {},
     "output_type": "execute_result"
    }
   ],
   "source": [
    "iris.head()"
   ]
  },
  {
   "cell_type": "markdown",
   "id": "cdb1c06c",
   "metadata": {},
   "source": [
    "# apply function to dataset"
   ]
  },
  {
   "cell_type": "code",
   "execution_count": 118,
   "id": "3d329b5f",
   "metadata": {},
   "outputs": [
    {
     "data": {
      "text/plain": [
       "0         -61.02\n",
       "1          46.24\n",
       "2         -35.16\n",
       "3         123.14\n",
       "4        -157.28\n",
       "          ...   \n",
       "8394     1976.40\n",
       "8395     -783.84\n",
       "8396     8352.50\n",
       "8397    10970.30\n",
       "8398    -4427.50\n",
       "Name: Profit, Length: 8399, dtype: float64"
      ]
     },
     "execution_count": 118,
     "metadata": {},
     "output_type": "execute_result"
    }
   ],
   "source": [
    "def twice(x):\n",
    "    return x*2\n",
    "\n",
    "master['Profit'].apply(twice)"
   ]
  },
  {
   "cell_type": "code",
   "execution_count": 122,
   "id": "09dd64cb",
   "metadata": {},
   "outputs": [],
   "source": [
    "def round_off(x):\n",
    " return round(x,2)\n",
    "\n",
    "housing['Price'] = housing['Price'].apply(round_off)"
   ]
  },
  {
   "cell_type": "code",
   "execution_count": null,
   "id": "580c1f99",
   "metadata": {},
   "outputs": [],
   "source": []
  }
 ],
 "metadata": {
  "kernelspec": {
   "display_name": "Python 3 (ipykernel)",
   "language": "python",
   "name": "python3"
  },
  "language_info": {
   "codemirror_mode": {
    "name": "ipython",
    "version": 3
   },
   "file_extension": ".py",
   "mimetype": "text/x-python",
   "name": "python",
   "nbconvert_exporter": "python",
   "pygments_lexer": "ipython3",
   "version": "3.10.9"
  }
 },
 "nbformat": 4,
 "nbformat_minor": 5
}
